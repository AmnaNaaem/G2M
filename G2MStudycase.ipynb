{
 "cells": [
  {
   "cell_type": "markdown",
   "metadata": {},
   "source": [
    "# G2MSTUDY: Exploratory Data Analysis "
   ]
  },
  {
   "cell_type": "markdown",
   "metadata": {},
   "source": [
    "Calling Important Libraries:"
   ]
  },
  {
   "cell_type": "code",
   "execution_count": 1,
   "metadata": {},
   "outputs": [],
   "source": [
    "import pandas as pd\n",
    "import numpy as np\n",
    "import matplotlib.pyplot as plt\n",
    "import seaborn as sns\n",
    "sns.set()\n",
    "%matplotlib inline"
   ]
  },
  {
   "cell_type": "markdown",
   "metadata": {},
   "source": [
    "# Calling all four Data files:"
   ]
  },
  {
   "cell_type": "markdown",
   "metadata": {},
   "source": [
    "Calling data sets as follows:\n",
    "1. Cab data set as df1.\n",
    "2. City data set as df2.\n",
    "3. Customer ID as df3.\n",
    "4. Transaction ID as df4."
   ]
  },
  {
   "cell_type": "code",
   "execution_count": 2,
   "metadata": {},
   "outputs": [],
   "source": [
    "data1=pd.read_csv(\"Cab_Data.csv\")\n",
    "df1=data1.copy()"
   ]
  },
  {
   "cell_type": "code",
   "execution_count": 3,
   "metadata": {},
   "outputs": [
    {
     "data": {
      "text/html": [
       "<div>\n",
       "<style scoped>\n",
       "    .dataframe tbody tr th:only-of-type {\n",
       "        vertical-align: middle;\n",
       "    }\n",
       "\n",
       "    .dataframe tbody tr th {\n",
       "        vertical-align: top;\n",
       "    }\n",
       "\n",
       "    .dataframe thead th {\n",
       "        text-align: right;\n",
       "    }\n",
       "</style>\n",
       "<table border=\"1\" class=\"dataframe\">\n",
       "  <thead>\n",
       "    <tr style=\"text-align: right;\">\n",
       "      <th></th>\n",
       "      <th>Transaction ID</th>\n",
       "      <th>Date of Travel</th>\n",
       "      <th>Company</th>\n",
       "      <th>City</th>\n",
       "      <th>KM Travelled</th>\n",
       "      <th>Price Charged</th>\n",
       "      <th>Cost of Trip</th>\n",
       "    </tr>\n",
       "  </thead>\n",
       "  <tbody>\n",
       "    <tr>\n",
       "      <th>0</th>\n",
       "      <td>10000011</td>\n",
       "      <td>1/8/2016</td>\n",
       "      <td>Pink Cab</td>\n",
       "      <td>ATLANTA GA</td>\n",
       "      <td>30.45</td>\n",
       "      <td>370.95</td>\n",
       "      <td>313.635</td>\n",
       "    </tr>\n",
       "    <tr>\n",
       "      <th>1</th>\n",
       "      <td>10000012</td>\n",
       "      <td>1/6/2016</td>\n",
       "      <td>Pink Cab</td>\n",
       "      <td>ATLANTA GA</td>\n",
       "      <td>28.62</td>\n",
       "      <td>358.52</td>\n",
       "      <td>334.854</td>\n",
       "    </tr>\n",
       "    <tr>\n",
       "      <th>2</th>\n",
       "      <td>10000013</td>\n",
       "      <td>1/2/2016</td>\n",
       "      <td>Pink Cab</td>\n",
       "      <td>ATLANTA GA</td>\n",
       "      <td>9.04</td>\n",
       "      <td>125.20</td>\n",
       "      <td>97.632</td>\n",
       "    </tr>\n",
       "    <tr>\n",
       "      <th>3</th>\n",
       "      <td>10000014</td>\n",
       "      <td>1/7/2016</td>\n",
       "      <td>Pink Cab</td>\n",
       "      <td>ATLANTA GA</td>\n",
       "      <td>33.17</td>\n",
       "      <td>377.40</td>\n",
       "      <td>351.602</td>\n",
       "    </tr>\n",
       "    <tr>\n",
       "      <th>4</th>\n",
       "      <td>10000015</td>\n",
       "      <td>1/3/2016</td>\n",
       "      <td>Pink Cab</td>\n",
       "      <td>ATLANTA GA</td>\n",
       "      <td>8.73</td>\n",
       "      <td>114.62</td>\n",
       "      <td>97.776</td>\n",
       "    </tr>\n",
       "  </tbody>\n",
       "</table>\n",
       "</div>"
      ],
      "text/plain": [
       "   Transaction ID Date of Travel   Company        City  KM Travelled  \\\n",
       "0        10000011       1/8/2016  Pink Cab  ATLANTA GA         30.45   \n",
       "1        10000012       1/6/2016  Pink Cab  ATLANTA GA         28.62   \n",
       "2        10000013       1/2/2016  Pink Cab  ATLANTA GA          9.04   \n",
       "3        10000014       1/7/2016  Pink Cab  ATLANTA GA         33.17   \n",
       "4        10000015       1/3/2016  Pink Cab  ATLANTA GA          8.73   \n",
       "\n",
       "   Price Charged  Cost of Trip  \n",
       "0         370.95       313.635  \n",
       "1         358.52       334.854  \n",
       "2         125.20        97.632  \n",
       "3         377.40       351.602  \n",
       "4         114.62        97.776  "
      ]
     },
     "execution_count": 3,
     "metadata": {},
     "output_type": "execute_result"
    }
   ],
   "source": [
    "df1.head()"
   ]
  },
  {
   "cell_type": "code",
   "execution_count": 4,
   "metadata": {},
   "outputs": [],
   "source": [
    "data2=pd.read_csv(\"City.csv\")\n",
    "df2=data2.copy()"
   ]
  },
  {
   "cell_type": "code",
   "execution_count": 5,
   "metadata": {},
   "outputs": [
    {
     "data": {
      "text/html": [
       "<div>\n",
       "<style scoped>\n",
       "    .dataframe tbody tr th:only-of-type {\n",
       "        vertical-align: middle;\n",
       "    }\n",
       "\n",
       "    .dataframe tbody tr th {\n",
       "        vertical-align: top;\n",
       "    }\n",
       "\n",
       "    .dataframe thead th {\n",
       "        text-align: right;\n",
       "    }\n",
       "</style>\n",
       "<table border=\"1\" class=\"dataframe\">\n",
       "  <thead>\n",
       "    <tr style=\"text-align: right;\">\n",
       "      <th></th>\n",
       "      <th>City</th>\n",
       "      <th>Population</th>\n",
       "      <th>Users</th>\n",
       "    </tr>\n",
       "  </thead>\n",
       "  <tbody>\n",
       "    <tr>\n",
       "      <th>0</th>\n",
       "      <td>NEW YORK NY</td>\n",
       "      <td>8,405,837</td>\n",
       "      <td>302,149</td>\n",
       "    </tr>\n",
       "    <tr>\n",
       "      <th>1</th>\n",
       "      <td>CHICAGO IL</td>\n",
       "      <td>1,955,130</td>\n",
       "      <td>164,468</td>\n",
       "    </tr>\n",
       "    <tr>\n",
       "      <th>2</th>\n",
       "      <td>LOS ANGELES CA</td>\n",
       "      <td>1,595,037</td>\n",
       "      <td>144,132</td>\n",
       "    </tr>\n",
       "    <tr>\n",
       "      <th>3</th>\n",
       "      <td>MIAMI FL</td>\n",
       "      <td>1,339,155</td>\n",
       "      <td>17,675</td>\n",
       "    </tr>\n",
       "    <tr>\n",
       "      <th>4</th>\n",
       "      <td>SILICON VALLEY</td>\n",
       "      <td>1,177,609</td>\n",
       "      <td>27,247</td>\n",
       "    </tr>\n",
       "  </tbody>\n",
       "</table>\n",
       "</div>"
      ],
      "text/plain": [
       "             City   Population      Users\n",
       "0     NEW YORK NY   8,405,837    302,149 \n",
       "1      CHICAGO IL   1,955,130    164,468 \n",
       "2  LOS ANGELES CA   1,595,037    144,132 \n",
       "3        MIAMI FL   1,339,155     17,675 \n",
       "4  SILICON VALLEY   1,177,609     27,247 "
      ]
     },
     "execution_count": 5,
     "metadata": {},
     "output_type": "execute_result"
    }
   ],
   "source": [
    "df2.head()"
   ]
  },
  {
   "cell_type": "code",
   "execution_count": 6,
   "metadata": {},
   "outputs": [],
   "source": [
    "data3=pd.read_csv(\"Customer_ID.csv\")\n",
    "df3=data3.copy()"
   ]
  },
  {
   "cell_type": "code",
   "execution_count": 7,
   "metadata": {},
   "outputs": [
    {
     "data": {
      "text/html": [
       "<div>\n",
       "<style scoped>\n",
       "    .dataframe tbody tr th:only-of-type {\n",
       "        vertical-align: middle;\n",
       "    }\n",
       "\n",
       "    .dataframe tbody tr th {\n",
       "        vertical-align: top;\n",
       "    }\n",
       "\n",
       "    .dataframe thead th {\n",
       "        text-align: right;\n",
       "    }\n",
       "</style>\n",
       "<table border=\"1\" class=\"dataframe\">\n",
       "  <thead>\n",
       "    <tr style=\"text-align: right;\">\n",
       "      <th></th>\n",
       "      <th>Customer ID</th>\n",
       "      <th>Gender</th>\n",
       "      <th>Age</th>\n",
       "      <th>Income (USD/Month)</th>\n",
       "    </tr>\n",
       "  </thead>\n",
       "  <tbody>\n",
       "    <tr>\n",
       "      <th>0</th>\n",
       "      <td>29290</td>\n",
       "      <td>Male</td>\n",
       "      <td>28</td>\n",
       "      <td>10813</td>\n",
       "    </tr>\n",
       "    <tr>\n",
       "      <th>1</th>\n",
       "      <td>27703</td>\n",
       "      <td>Male</td>\n",
       "      <td>27</td>\n",
       "      <td>9237</td>\n",
       "    </tr>\n",
       "    <tr>\n",
       "      <th>2</th>\n",
       "      <td>28712</td>\n",
       "      <td>Male</td>\n",
       "      <td>53</td>\n",
       "      <td>11242</td>\n",
       "    </tr>\n",
       "    <tr>\n",
       "      <th>3</th>\n",
       "      <td>28020</td>\n",
       "      <td>Male</td>\n",
       "      <td>23</td>\n",
       "      <td>23327</td>\n",
       "    </tr>\n",
       "    <tr>\n",
       "      <th>4</th>\n",
       "      <td>27182</td>\n",
       "      <td>Male</td>\n",
       "      <td>33</td>\n",
       "      <td>8536</td>\n",
       "    </tr>\n",
       "  </tbody>\n",
       "</table>\n",
       "</div>"
      ],
      "text/plain": [
       "   Customer ID Gender  Age  Income (USD/Month)\n",
       "0        29290   Male   28               10813\n",
       "1        27703   Male   27                9237\n",
       "2        28712   Male   53               11242\n",
       "3        28020   Male   23               23327\n",
       "4        27182   Male   33                8536"
      ]
     },
     "execution_count": 7,
     "metadata": {},
     "output_type": "execute_result"
    }
   ],
   "source": [
    "df3.head()"
   ]
  },
  {
   "cell_type": "code",
   "execution_count": 8,
   "metadata": {},
   "outputs": [],
   "source": [
    "data4=pd.read_csv(\"Transaction_ID.csv\")\n",
    "df4=data4.copy()"
   ]
  },
  {
   "cell_type": "code",
   "execution_count": 9,
   "metadata": {},
   "outputs": [
    {
     "data": {
      "text/html": [
       "<div>\n",
       "<style scoped>\n",
       "    .dataframe tbody tr th:only-of-type {\n",
       "        vertical-align: middle;\n",
       "    }\n",
       "\n",
       "    .dataframe tbody tr th {\n",
       "        vertical-align: top;\n",
       "    }\n",
       "\n",
       "    .dataframe thead th {\n",
       "        text-align: right;\n",
       "    }\n",
       "</style>\n",
       "<table border=\"1\" class=\"dataframe\">\n",
       "  <thead>\n",
       "    <tr style=\"text-align: right;\">\n",
       "      <th></th>\n",
       "      <th>Transaction ID</th>\n",
       "      <th>Customer ID</th>\n",
       "      <th>Payment_Mode</th>\n",
       "    </tr>\n",
       "  </thead>\n",
       "  <tbody>\n",
       "    <tr>\n",
       "      <th>0</th>\n",
       "      <td>10000011</td>\n",
       "      <td>29290</td>\n",
       "      <td>Card</td>\n",
       "    </tr>\n",
       "    <tr>\n",
       "      <th>1</th>\n",
       "      <td>10000012</td>\n",
       "      <td>27703</td>\n",
       "      <td>Card</td>\n",
       "    </tr>\n",
       "    <tr>\n",
       "      <th>2</th>\n",
       "      <td>10000013</td>\n",
       "      <td>28712</td>\n",
       "      <td>Cash</td>\n",
       "    </tr>\n",
       "    <tr>\n",
       "      <th>3</th>\n",
       "      <td>10000014</td>\n",
       "      <td>28020</td>\n",
       "      <td>Cash</td>\n",
       "    </tr>\n",
       "    <tr>\n",
       "      <th>4</th>\n",
       "      <td>10000015</td>\n",
       "      <td>27182</td>\n",
       "      <td>Card</td>\n",
       "    </tr>\n",
       "  </tbody>\n",
       "</table>\n",
       "</div>"
      ],
      "text/plain": [
       "   Transaction ID  Customer ID Payment_Mode\n",
       "0        10000011        29290         Card\n",
       "1        10000012        27703         Card\n",
       "2        10000013        28712         Cash\n",
       "3        10000014        28020         Cash\n",
       "4        10000015        27182         Card"
      ]
     },
     "execution_count": 9,
     "metadata": {},
     "output_type": "execute_result"
    }
   ],
   "source": [
    "df4.head()"
   ]
  },
  {
   "cell_type": "code",
   "execution_count": 10,
   "metadata": {},
   "outputs": [
    {
     "data": {
      "text/plain": [
       "Index(['Transaction ID', 'Date of Travel', 'Company', 'City', 'KM Travelled',\n",
       "       'Price Charged', 'Cost of Trip'],\n",
       "      dtype='object')"
      ]
     },
     "execution_count": 10,
     "metadata": {},
     "output_type": "execute_result"
    }
   ],
   "source": [
    "df1.columns"
   ]
  },
  {
   "cell_type": "code",
   "execution_count": 11,
   "metadata": {},
   "outputs": [
    {
     "data": {
      "text/plain": [
       "Index(['City', 'Population', 'Users'], dtype='object')"
      ]
     },
     "execution_count": 11,
     "metadata": {},
     "output_type": "execute_result"
    }
   ],
   "source": [
    "df2.columns"
   ]
  },
  {
   "cell_type": "code",
   "execution_count": 12,
   "metadata": {},
   "outputs": [
    {
     "data": {
      "text/plain": [
       "Index(['Customer ID', 'Gender', 'Age', 'Income (USD/Month)'], dtype='object')"
      ]
     },
     "execution_count": 12,
     "metadata": {},
     "output_type": "execute_result"
    }
   ],
   "source": [
    "df3.columns"
   ]
  },
  {
   "cell_type": "code",
   "execution_count": 13,
   "metadata": {},
   "outputs": [
    {
     "data": {
      "text/plain": [
       "Index(['Transaction ID', 'Customer ID', 'Payment_Mode'], dtype='object')"
      ]
     },
     "execution_count": 13,
     "metadata": {},
     "output_type": "execute_result"
    }
   ],
   "source": [
    "df4.columns"
   ]
  },
  {
   "cell_type": "markdown",
   "metadata": {},
   "source": [
    "# Merging Data sets using Common information:"
   ]
  },
  {
   "cell_type": "code",
   "execution_count": 14,
   "metadata": {},
   "outputs": [],
   "source": [
    "# data set 1 and data set 4 on the basis of Transaction ID:\n",
    "data=df1.merge(df4,on='Transaction ID')"
   ]
  },
  {
   "cell_type": "code",
   "execution_count": 15,
   "metadata": {},
   "outputs": [
    {
     "data": {
      "text/html": [
       "<div>\n",
       "<style scoped>\n",
       "    .dataframe tbody tr th:only-of-type {\n",
       "        vertical-align: middle;\n",
       "    }\n",
       "\n",
       "    .dataframe tbody tr th {\n",
       "        vertical-align: top;\n",
       "    }\n",
       "\n",
       "    .dataframe thead th {\n",
       "        text-align: right;\n",
       "    }\n",
       "</style>\n",
       "<table border=\"1\" class=\"dataframe\">\n",
       "  <thead>\n",
       "    <tr style=\"text-align: right;\">\n",
       "      <th></th>\n",
       "      <th>Transaction ID</th>\n",
       "      <th>Date of Travel</th>\n",
       "      <th>Company</th>\n",
       "      <th>City</th>\n",
       "      <th>KM Travelled</th>\n",
       "      <th>Price Charged</th>\n",
       "      <th>Cost of Trip</th>\n",
       "      <th>Customer ID</th>\n",
       "      <th>Payment_Mode</th>\n",
       "    </tr>\n",
       "  </thead>\n",
       "  <tbody>\n",
       "    <tr>\n",
       "      <th>0</th>\n",
       "      <td>10000011</td>\n",
       "      <td>1/8/2016</td>\n",
       "      <td>Pink Cab</td>\n",
       "      <td>ATLANTA GA</td>\n",
       "      <td>30.45</td>\n",
       "      <td>370.95</td>\n",
       "      <td>313.635</td>\n",
       "      <td>29290</td>\n",
       "      <td>Card</td>\n",
       "    </tr>\n",
       "    <tr>\n",
       "      <th>1</th>\n",
       "      <td>10000012</td>\n",
       "      <td>1/6/2016</td>\n",
       "      <td>Pink Cab</td>\n",
       "      <td>ATLANTA GA</td>\n",
       "      <td>28.62</td>\n",
       "      <td>358.52</td>\n",
       "      <td>334.854</td>\n",
       "      <td>27703</td>\n",
       "      <td>Card</td>\n",
       "    </tr>\n",
       "    <tr>\n",
       "      <th>2</th>\n",
       "      <td>10000013</td>\n",
       "      <td>1/2/2016</td>\n",
       "      <td>Pink Cab</td>\n",
       "      <td>ATLANTA GA</td>\n",
       "      <td>9.04</td>\n",
       "      <td>125.20</td>\n",
       "      <td>97.632</td>\n",
       "      <td>28712</td>\n",
       "      <td>Cash</td>\n",
       "    </tr>\n",
       "    <tr>\n",
       "      <th>3</th>\n",
       "      <td>10000014</td>\n",
       "      <td>1/7/2016</td>\n",
       "      <td>Pink Cab</td>\n",
       "      <td>ATLANTA GA</td>\n",
       "      <td>33.17</td>\n",
       "      <td>377.40</td>\n",
       "      <td>351.602</td>\n",
       "      <td>28020</td>\n",
       "      <td>Cash</td>\n",
       "    </tr>\n",
       "    <tr>\n",
       "      <th>4</th>\n",
       "      <td>10000015</td>\n",
       "      <td>1/3/2016</td>\n",
       "      <td>Pink Cab</td>\n",
       "      <td>ATLANTA GA</td>\n",
       "      <td>8.73</td>\n",
       "      <td>114.62</td>\n",
       "      <td>97.776</td>\n",
       "      <td>27182</td>\n",
       "      <td>Card</td>\n",
       "    </tr>\n",
       "  </tbody>\n",
       "</table>\n",
       "</div>"
      ],
      "text/plain": [
       "   Transaction ID Date of Travel   Company        City  KM Travelled  \\\n",
       "0        10000011       1/8/2016  Pink Cab  ATLANTA GA         30.45   \n",
       "1        10000012       1/6/2016  Pink Cab  ATLANTA GA         28.62   \n",
       "2        10000013       1/2/2016  Pink Cab  ATLANTA GA          9.04   \n",
       "3        10000014       1/7/2016  Pink Cab  ATLANTA GA         33.17   \n",
       "4        10000015       1/3/2016  Pink Cab  ATLANTA GA          8.73   \n",
       "\n",
       "   Price Charged  Cost of Trip  Customer ID Payment_Mode  \n",
       "0         370.95       313.635        29290         Card  \n",
       "1         358.52       334.854        27703         Card  \n",
       "2         125.20        97.632        28712         Cash  \n",
       "3         377.40       351.602        28020         Cash  \n",
       "4         114.62        97.776        27182         Card  "
      ]
     },
     "execution_count": 15,
     "metadata": {},
     "output_type": "execute_result"
    }
   ],
   "source": [
    "data.head()"
   ]
  },
  {
   "cell_type": "code",
   "execution_count": 16,
   "metadata": {},
   "outputs": [],
   "source": [
    "# Combining data set 3 with data using customer ID:\n",
    "data=data.merge(df3,on='Customer ID')"
   ]
  },
  {
   "cell_type": "code",
   "execution_count": 17,
   "metadata": {},
   "outputs": [],
   "source": [
    "#Now combining data set 2 using City information and copying data into name df for further analysis:\n",
    "data=data.merge(df2,on='City')\n",
    "df=data.copy()"
   ]
  },
  {
   "cell_type": "code",
   "execution_count": 18,
   "metadata": {},
   "outputs": [
    {
     "data": {
      "text/html": [
       "<div>\n",
       "<style scoped>\n",
       "    .dataframe tbody tr th:only-of-type {\n",
       "        vertical-align: middle;\n",
       "    }\n",
       "\n",
       "    .dataframe tbody tr th {\n",
       "        vertical-align: top;\n",
       "    }\n",
       "\n",
       "    .dataframe thead th {\n",
       "        text-align: right;\n",
       "    }\n",
       "</style>\n",
       "<table border=\"1\" class=\"dataframe\">\n",
       "  <thead>\n",
       "    <tr style=\"text-align: right;\">\n",
       "      <th></th>\n",
       "      <th>Transaction ID</th>\n",
       "      <th>Date of Travel</th>\n",
       "      <th>Company</th>\n",
       "      <th>City</th>\n",
       "      <th>KM Travelled</th>\n",
       "      <th>Price Charged</th>\n",
       "      <th>Cost of Trip</th>\n",
       "      <th>Customer ID</th>\n",
       "      <th>Payment_Mode</th>\n",
       "      <th>Gender</th>\n",
       "      <th>Age</th>\n",
       "      <th>Income (USD/Month)</th>\n",
       "      <th>Population</th>\n",
       "      <th>Users</th>\n",
       "    </tr>\n",
       "  </thead>\n",
       "  <tbody>\n",
       "    <tr>\n",
       "      <th>0</th>\n",
       "      <td>10000011</td>\n",
       "      <td>1/8/2016</td>\n",
       "      <td>Pink Cab</td>\n",
       "      <td>ATLANTA GA</td>\n",
       "      <td>30.45</td>\n",
       "      <td>370.95</td>\n",
       "      <td>313.6350</td>\n",
       "      <td>29290</td>\n",
       "      <td>Card</td>\n",
       "      <td>Male</td>\n",
       "      <td>28</td>\n",
       "      <td>10813</td>\n",
       "      <td>814,885</td>\n",
       "      <td>24,701</td>\n",
       "    </tr>\n",
       "    <tr>\n",
       "      <th>1</th>\n",
       "      <td>10351127</td>\n",
       "      <td>7/21/2018</td>\n",
       "      <td>Yellow Cab</td>\n",
       "      <td>ATLANTA GA</td>\n",
       "      <td>26.19</td>\n",
       "      <td>598.70</td>\n",
       "      <td>317.4228</td>\n",
       "      <td>29290</td>\n",
       "      <td>Cash</td>\n",
       "      <td>Male</td>\n",
       "      <td>28</td>\n",
       "      <td>10813</td>\n",
       "      <td>814,885</td>\n",
       "      <td>24,701</td>\n",
       "    </tr>\n",
       "    <tr>\n",
       "      <th>2</th>\n",
       "      <td>10412921</td>\n",
       "      <td>11/23/2018</td>\n",
       "      <td>Yellow Cab</td>\n",
       "      <td>ATLANTA GA</td>\n",
       "      <td>42.55</td>\n",
       "      <td>792.05</td>\n",
       "      <td>597.4020</td>\n",
       "      <td>29290</td>\n",
       "      <td>Card</td>\n",
       "      <td>Male</td>\n",
       "      <td>28</td>\n",
       "      <td>10813</td>\n",
       "      <td>814,885</td>\n",
       "      <td>24,701</td>\n",
       "    </tr>\n",
       "    <tr>\n",
       "      <th>3</th>\n",
       "      <td>10000012</td>\n",
       "      <td>1/6/2016</td>\n",
       "      <td>Pink Cab</td>\n",
       "      <td>ATLANTA GA</td>\n",
       "      <td>28.62</td>\n",
       "      <td>358.52</td>\n",
       "      <td>334.8540</td>\n",
       "      <td>27703</td>\n",
       "      <td>Card</td>\n",
       "      <td>Male</td>\n",
       "      <td>27</td>\n",
       "      <td>9237</td>\n",
       "      <td>814,885</td>\n",
       "      <td>24,701</td>\n",
       "    </tr>\n",
       "    <tr>\n",
       "      <th>4</th>\n",
       "      <td>10320494</td>\n",
       "      <td>4/21/2018</td>\n",
       "      <td>Yellow Cab</td>\n",
       "      <td>ATLANTA GA</td>\n",
       "      <td>36.38</td>\n",
       "      <td>721.10</td>\n",
       "      <td>467.1192</td>\n",
       "      <td>27703</td>\n",
       "      <td>Card</td>\n",
       "      <td>Male</td>\n",
       "      <td>27</td>\n",
       "      <td>9237</td>\n",
       "      <td>814,885</td>\n",
       "      <td>24,701</td>\n",
       "    </tr>\n",
       "  </tbody>\n",
       "</table>\n",
       "</div>"
      ],
      "text/plain": [
       "   Transaction ID Date of Travel     Company        City  KM Travelled  \\\n",
       "0        10000011       1/8/2016    Pink Cab  ATLANTA GA         30.45   \n",
       "1        10351127      7/21/2018  Yellow Cab  ATLANTA GA         26.19   \n",
       "2        10412921     11/23/2018  Yellow Cab  ATLANTA GA         42.55   \n",
       "3        10000012       1/6/2016    Pink Cab  ATLANTA GA         28.62   \n",
       "4        10320494      4/21/2018  Yellow Cab  ATLANTA GA         36.38   \n",
       "\n",
       "   Price Charged  Cost of Trip  Customer ID Payment_Mode Gender  Age  \\\n",
       "0         370.95      313.6350        29290         Card   Male   28   \n",
       "1         598.70      317.4228        29290         Cash   Male   28   \n",
       "2         792.05      597.4020        29290         Card   Male   28   \n",
       "3         358.52      334.8540        27703         Card   Male   27   \n",
       "4         721.10      467.1192        27703         Card   Male   27   \n",
       "\n",
       "   Income (USD/Month) Population     Users  \n",
       "0               10813   814,885    24,701   \n",
       "1               10813   814,885    24,701   \n",
       "2               10813   814,885    24,701   \n",
       "3                9237   814,885    24,701   \n",
       "4                9237   814,885    24,701   "
      ]
     },
     "execution_count": 18,
     "metadata": {},
     "output_type": "execute_result"
    }
   ],
   "source": [
    "df.head()"
   ]
  },
  {
   "cell_type": "code",
   "execution_count": 19,
   "metadata": {},
   "outputs": [
    {
     "data": {
      "text/html": [
       "<div>\n",
       "<style scoped>\n",
       "    .dataframe tbody tr th:only-of-type {\n",
       "        vertical-align: middle;\n",
       "    }\n",
       "\n",
       "    .dataframe tbody tr th {\n",
       "        vertical-align: top;\n",
       "    }\n",
       "\n",
       "    .dataframe thead th {\n",
       "        text-align: right;\n",
       "    }\n",
       "</style>\n",
       "<table border=\"1\" class=\"dataframe\">\n",
       "  <thead>\n",
       "    <tr style=\"text-align: right;\">\n",
       "      <th></th>\n",
       "      <th>Transaction ID</th>\n",
       "      <th>Date of Travel</th>\n",
       "      <th>Company</th>\n",
       "      <th>City</th>\n",
       "      <th>KM Travelled</th>\n",
       "      <th>Price Charged</th>\n",
       "      <th>Cost of Trip</th>\n",
       "      <th>Customer ID</th>\n",
       "      <th>Payment_Mode</th>\n",
       "      <th>Gender</th>\n",
       "      <th>Age</th>\n",
       "      <th>Income (USD/Month)</th>\n",
       "      <th>Population</th>\n",
       "      <th>Users</th>\n",
       "    </tr>\n",
       "  </thead>\n",
       "  <tbody>\n",
       "    <tr>\n",
       "      <th>359387</th>\n",
       "      <td>10307228</td>\n",
       "      <td>3/3/2018</td>\n",
       "      <td>Yellow Cab</td>\n",
       "      <td>WASHINGTON DC</td>\n",
       "      <td>38.40</td>\n",
       "      <td>668.93</td>\n",
       "      <td>525.3120</td>\n",
       "      <td>51406</td>\n",
       "      <td>Cash</td>\n",
       "      <td>Female</td>\n",
       "      <td>29</td>\n",
       "      <td>6829</td>\n",
       "      <td>418,859</td>\n",
       "      <td>127,001</td>\n",
       "    </tr>\n",
       "    <tr>\n",
       "      <th>359388</th>\n",
       "      <td>10319775</td>\n",
       "      <td>4/13/2018</td>\n",
       "      <td>Yellow Cab</td>\n",
       "      <td>WASHINGTON DC</td>\n",
       "      <td>3.57</td>\n",
       "      <td>67.60</td>\n",
       "      <td>44.5536</td>\n",
       "      <td>51406</td>\n",
       "      <td>Cash</td>\n",
       "      <td>Female</td>\n",
       "      <td>29</td>\n",
       "      <td>6829</td>\n",
       "      <td>418,859</td>\n",
       "      <td>127,001</td>\n",
       "    </tr>\n",
       "    <tr>\n",
       "      <th>359389</th>\n",
       "      <td>10347676</td>\n",
       "      <td>7/6/2018</td>\n",
       "      <td>Yellow Cab</td>\n",
       "      <td>WASHINGTON DC</td>\n",
       "      <td>23.46</td>\n",
       "      <td>331.97</td>\n",
       "      <td>337.8240</td>\n",
       "      <td>51406</td>\n",
       "      <td>Card</td>\n",
       "      <td>Female</td>\n",
       "      <td>29</td>\n",
       "      <td>6829</td>\n",
       "      <td>418,859</td>\n",
       "      <td>127,001</td>\n",
       "    </tr>\n",
       "    <tr>\n",
       "      <th>359390</th>\n",
       "      <td>10358624</td>\n",
       "      <td>8/2/2018</td>\n",
       "      <td>Yellow Cab</td>\n",
       "      <td>WASHINGTON DC</td>\n",
       "      <td>27.60</td>\n",
       "      <td>358.23</td>\n",
       "      <td>364.3200</td>\n",
       "      <td>51406</td>\n",
       "      <td>Cash</td>\n",
       "      <td>Female</td>\n",
       "      <td>29</td>\n",
       "      <td>6829</td>\n",
       "      <td>418,859</td>\n",
       "      <td>127,001</td>\n",
       "    </tr>\n",
       "    <tr>\n",
       "      <th>359391</th>\n",
       "      <td>10370709</td>\n",
       "      <td>8/30/2018</td>\n",
       "      <td>Yellow Cab</td>\n",
       "      <td>WASHINGTON DC</td>\n",
       "      <td>34.24</td>\n",
       "      <td>453.11</td>\n",
       "      <td>427.3152</td>\n",
       "      <td>51406</td>\n",
       "      <td>Card</td>\n",
       "      <td>Female</td>\n",
       "      <td>29</td>\n",
       "      <td>6829</td>\n",
       "      <td>418,859</td>\n",
       "      <td>127,001</td>\n",
       "    </tr>\n",
       "  </tbody>\n",
       "</table>\n",
       "</div>"
      ],
      "text/plain": [
       "        Transaction ID Date of Travel     Company           City  \\\n",
       "359387        10307228       3/3/2018  Yellow Cab  WASHINGTON DC   \n",
       "359388        10319775      4/13/2018  Yellow Cab  WASHINGTON DC   \n",
       "359389        10347676       7/6/2018  Yellow Cab  WASHINGTON DC   \n",
       "359390        10358624       8/2/2018  Yellow Cab  WASHINGTON DC   \n",
       "359391        10370709      8/30/2018  Yellow Cab  WASHINGTON DC   \n",
       "\n",
       "        KM Travelled  Price Charged  Cost of Trip  Customer ID Payment_Mode  \\\n",
       "359387         38.40         668.93      525.3120        51406         Cash   \n",
       "359388          3.57          67.60       44.5536        51406         Cash   \n",
       "359389         23.46         331.97      337.8240        51406         Card   \n",
       "359390         27.60         358.23      364.3200        51406         Cash   \n",
       "359391         34.24         453.11      427.3152        51406         Card   \n",
       "\n",
       "        Gender  Age  Income (USD/Month) Population      Users  \n",
       "359387  Female   29                6829   418,859    127,001   \n",
       "359388  Female   29                6829   418,859    127,001   \n",
       "359389  Female   29                6829   418,859    127,001   \n",
       "359390  Female   29                6829   418,859    127,001   \n",
       "359391  Female   29                6829   418,859    127,001   "
      ]
     },
     "execution_count": 19,
     "metadata": {},
     "output_type": "execute_result"
    }
   ],
   "source": [
    "df.tail()"
   ]
  },
  {
   "cell_type": "markdown",
   "metadata": {},
   "source": [
    "# Basic Analysis "
   ]
  },
  {
   "cell_type": "code",
   "execution_count": 20,
   "metadata": {},
   "outputs": [
    {
     "data": {
      "text/plain": [
       "(359392, 14)"
      ]
     },
     "execution_count": 20,
     "metadata": {},
     "output_type": "execute_result"
    }
   ],
   "source": [
    "# Command to show number of columns and rows:\n",
    "df.shape"
   ]
  },
  {
   "cell_type": "code",
   "execution_count": 21,
   "metadata": {},
   "outputs": [
    {
     "data": {
      "text/plain": [
       "Index(['Transaction ID', 'Date of Travel', 'Company', 'City', 'KM Travelled',\n",
       "       'Price Charged', 'Cost of Trip', 'Customer ID', 'Payment_Mode',\n",
       "       'Gender', 'Age', 'Income (USD/Month)', 'Population', 'Users'],\n",
       "      dtype='object')"
      ]
     },
     "execution_count": 21,
     "metadata": {},
     "output_type": "execute_result"
    }
   ],
   "source": [
    "# Command to see the column names:\n",
    "df.columns"
   ]
  },
  {
   "cell_type": "code",
   "execution_count": 22,
   "metadata": {},
   "outputs": [
    {
     "data": {
      "text/plain": [
       "Transaction ID          int64\n",
       "Date of Travel         object\n",
       "Company                object\n",
       "City                   object\n",
       "KM Travelled          float64\n",
       "Price Charged         float64\n",
       "Cost of Trip          float64\n",
       "Customer ID             int64\n",
       "Payment_Mode           object\n",
       "Gender                 object\n",
       "Age                     int64\n",
       "Income (USD/Month)      int64\n",
       "Population             object\n",
       "Users                  object\n",
       "dtype: object"
      ]
     },
     "execution_count": 22,
     "metadata": {},
     "output_type": "execute_result"
    }
   ],
   "source": [
    "# Now we will analyse the Data type of all variables and change the type if needed:\n",
    "df.dtypes"
   ]
  },
  {
   "cell_type": "markdown",
   "metadata": {},
   "source": [
    "# Converting data type of Variable Transaction ID, Customer ID, Users, Population and Date of Travel:"
   ]
  },
  {
   "cell_type": "markdown",
   "metadata": {},
   "source": [
    "Coverting Transaction ID and Customer ID as object type.\n",
    "Converting Users and Population as Integer type.\n",
    "Converting Date of Travel as date/time."
   ]
  },
  {
   "cell_type": "code",
   "execution_count": 23,
   "metadata": {},
   "outputs": [],
   "source": [
    "df['Transaction ID']=df['Transaction ID'].astype(object)"
   ]
  },
  {
   "cell_type": "code",
   "execution_count": 24,
   "metadata": {},
   "outputs": [],
   "source": [
    "df['Customer ID']=df['Customer ID'].astype(object)"
   ]
  },
  {
   "cell_type": "code",
   "execution_count": 25,
   "metadata": {},
   "outputs": [],
   "source": [
    "df['Users'] = df['Users'].str.replace(',', '')"
   ]
  },
  {
   "cell_type": "code",
   "execution_count": 26,
   "metadata": {},
   "outputs": [],
   "source": [
    "df['Users']=pd.to_numeric(df['Users'])"
   ]
  },
  {
   "cell_type": "code",
   "execution_count": 27,
   "metadata": {},
   "outputs": [],
   "source": [
    "df['Population'] = df['Population'].str.replace(',', '')"
   ]
  },
  {
   "cell_type": "code",
   "execution_count": 28,
   "metadata": {},
   "outputs": [],
   "source": [
    "df['Population'] = pd.to_numeric(df['Population'])"
   ]
  },
  {
   "cell_type": "code",
   "execution_count": 29,
   "metadata": {},
   "outputs": [],
   "source": [
    "df['Date of Travel']=pd.to_datetime(df['Date of Travel'])"
   ]
  },
  {
   "cell_type": "code",
   "execution_count": 30,
   "metadata": {},
   "outputs": [
    {
     "data": {
      "text/plain": [
       "Transaction ID                object\n",
       "Date of Travel        datetime64[ns]\n",
       "Company                       object\n",
       "City                          object\n",
       "KM Travelled                 float64\n",
       "Price Charged                float64\n",
       "Cost of Trip                 float64\n",
       "Customer ID                   object\n",
       "Payment_Mode                  object\n",
       "Gender                        object\n",
       "Age                            int64\n",
       "Income (USD/Month)             int64\n",
       "Population                     int64\n",
       "Users                          int64\n",
       "dtype: object"
      ]
     },
     "execution_count": 30,
     "metadata": {},
     "output_type": "execute_result"
    }
   ],
   "source": [
    "df.dtypes"
   ]
  },
  {
   "cell_type": "markdown",
   "metadata": {},
   "source": [
    "# Summary Statistic of Data:"
   ]
  },
  {
   "cell_type": "code",
   "execution_count": 31,
   "metadata": {
    "scrolled": true
   },
   "outputs": [
    {
     "data": {
      "text/html": [
       "<div>\n",
       "<style scoped>\n",
       "    .dataframe tbody tr th:only-of-type {\n",
       "        vertical-align: middle;\n",
       "    }\n",
       "\n",
       "    .dataframe tbody tr th {\n",
       "        vertical-align: top;\n",
       "    }\n",
       "\n",
       "    .dataframe thead th {\n",
       "        text-align: right;\n",
       "    }\n",
       "</style>\n",
       "<table border=\"1\" class=\"dataframe\">\n",
       "  <thead>\n",
       "    <tr style=\"text-align: right;\">\n",
       "      <th></th>\n",
       "      <th>KM Travelled</th>\n",
       "      <th>Price Charged</th>\n",
       "      <th>Cost of Trip</th>\n",
       "      <th>Age</th>\n",
       "      <th>Income (USD/Month)</th>\n",
       "      <th>Population</th>\n",
       "      <th>Users</th>\n",
       "    </tr>\n",
       "  </thead>\n",
       "  <tbody>\n",
       "    <tr>\n",
       "      <th>count</th>\n",
       "      <td>359392.000000</td>\n",
       "      <td>359392.000000</td>\n",
       "      <td>359392.000000</td>\n",
       "      <td>359392.000000</td>\n",
       "      <td>359392.000000</td>\n",
       "      <td>3.593920e+05</td>\n",
       "      <td>359392.000000</td>\n",
       "    </tr>\n",
       "    <tr>\n",
       "      <th>mean</th>\n",
       "      <td>22.567254</td>\n",
       "      <td>423.443311</td>\n",
       "      <td>286.190113</td>\n",
       "      <td>35.336705</td>\n",
       "      <td>15048.822937</td>\n",
       "      <td>3.132198e+06</td>\n",
       "      <td>158365.582267</td>\n",
       "    </tr>\n",
       "    <tr>\n",
       "      <th>std</th>\n",
       "      <td>12.233526</td>\n",
       "      <td>274.378911</td>\n",
       "      <td>157.993661</td>\n",
       "      <td>12.594234</td>\n",
       "      <td>7969.409482</td>\n",
       "      <td>3.315194e+06</td>\n",
       "      <td>100850.051020</td>\n",
       "    </tr>\n",
       "    <tr>\n",
       "      <th>min</th>\n",
       "      <td>1.900000</td>\n",
       "      <td>15.600000</td>\n",
       "      <td>19.000000</td>\n",
       "      <td>18.000000</td>\n",
       "      <td>2000.000000</td>\n",
       "      <td>2.489680e+05</td>\n",
       "      <td>3643.000000</td>\n",
       "    </tr>\n",
       "    <tr>\n",
       "      <th>25%</th>\n",
       "      <td>12.000000</td>\n",
       "      <td>206.437500</td>\n",
       "      <td>151.200000</td>\n",
       "      <td>25.000000</td>\n",
       "      <td>8424.000000</td>\n",
       "      <td>6.712380e+05</td>\n",
       "      <td>80021.000000</td>\n",
       "    </tr>\n",
       "    <tr>\n",
       "      <th>50%</th>\n",
       "      <td>22.440000</td>\n",
       "      <td>386.360000</td>\n",
       "      <td>282.480000</td>\n",
       "      <td>33.000000</td>\n",
       "      <td>14685.000000</td>\n",
       "      <td>1.595037e+06</td>\n",
       "      <td>144132.000000</td>\n",
       "    </tr>\n",
       "    <tr>\n",
       "      <th>75%</th>\n",
       "      <td>32.960000</td>\n",
       "      <td>583.660000</td>\n",
       "      <td>413.683200</td>\n",
       "      <td>42.000000</td>\n",
       "      <td>21035.000000</td>\n",
       "      <td>8.405837e+06</td>\n",
       "      <td>302149.000000</td>\n",
       "    </tr>\n",
       "    <tr>\n",
       "      <th>max</th>\n",
       "      <td>48.000000</td>\n",
       "      <td>2048.030000</td>\n",
       "      <td>691.200000</td>\n",
       "      <td>65.000000</td>\n",
       "      <td>35000.000000</td>\n",
       "      <td>8.405837e+06</td>\n",
       "      <td>302149.000000</td>\n",
       "    </tr>\n",
       "  </tbody>\n",
       "</table>\n",
       "</div>"
      ],
      "text/plain": [
       "        KM Travelled  Price Charged   Cost of Trip            Age  \\\n",
       "count  359392.000000  359392.000000  359392.000000  359392.000000   \n",
       "mean       22.567254     423.443311     286.190113      35.336705   \n",
       "std        12.233526     274.378911     157.993661      12.594234   \n",
       "min         1.900000      15.600000      19.000000      18.000000   \n",
       "25%        12.000000     206.437500     151.200000      25.000000   \n",
       "50%        22.440000     386.360000     282.480000      33.000000   \n",
       "75%        32.960000     583.660000     413.683200      42.000000   \n",
       "max        48.000000    2048.030000     691.200000      65.000000   \n",
       "\n",
       "       Income (USD/Month)    Population          Users  \n",
       "count       359392.000000  3.593920e+05  359392.000000  \n",
       "mean         15048.822937  3.132198e+06  158365.582267  \n",
       "std           7969.409482  3.315194e+06  100850.051020  \n",
       "min           2000.000000  2.489680e+05    3643.000000  \n",
       "25%           8424.000000  6.712380e+05   80021.000000  \n",
       "50%          14685.000000  1.595037e+06  144132.000000  \n",
       "75%          21035.000000  8.405837e+06  302149.000000  \n",
       "max          35000.000000  8.405837e+06  302149.000000  "
      ]
     },
     "execution_count": 31,
     "metadata": {},
     "output_type": "execute_result"
    }
   ],
   "source": [
    "# This command will give us summary statistics for interger and float type variables:\n",
    "df.describe()"
   ]
  },
  {
   "cell_type": "code",
   "execution_count": 32,
   "metadata": {},
   "outputs": [
    {
     "data": {
      "text/html": [
       "<div>\n",
       "<style scoped>\n",
       "    .dataframe tbody tr th:only-of-type {\n",
       "        vertical-align: middle;\n",
       "    }\n",
       "\n",
       "    .dataframe tbody tr th {\n",
       "        vertical-align: top;\n",
       "    }\n",
       "\n",
       "    .dataframe thead th {\n",
       "        text-align: right;\n",
       "    }\n",
       "</style>\n",
       "<table border=\"1\" class=\"dataframe\">\n",
       "  <thead>\n",
       "    <tr style=\"text-align: right;\">\n",
       "      <th></th>\n",
       "      <th>Transaction ID</th>\n",
       "      <th>Company</th>\n",
       "      <th>City</th>\n",
       "      <th>Customer ID</th>\n",
       "      <th>Payment_Mode</th>\n",
       "      <th>Gender</th>\n",
       "    </tr>\n",
       "  </thead>\n",
       "  <tbody>\n",
       "    <tr>\n",
       "      <th>count</th>\n",
       "      <td>359392</td>\n",
       "      <td>359392</td>\n",
       "      <td>359392</td>\n",
       "      <td>359392</td>\n",
       "      <td>359392</td>\n",
       "      <td>359392</td>\n",
       "    </tr>\n",
       "    <tr>\n",
       "      <th>unique</th>\n",
       "      <td>359392</td>\n",
       "      <td>2</td>\n",
       "      <td>19</td>\n",
       "      <td>46148</td>\n",
       "      <td>2</td>\n",
       "      <td>2</td>\n",
       "    </tr>\n",
       "    <tr>\n",
       "      <th>top</th>\n",
       "      <td>10440107</td>\n",
       "      <td>Yellow Cab</td>\n",
       "      <td>NEW YORK NY</td>\n",
       "      <td>494</td>\n",
       "      <td>Card</td>\n",
       "      <td>Male</td>\n",
       "    </tr>\n",
       "    <tr>\n",
       "      <th>freq</th>\n",
       "      <td>1</td>\n",
       "      <td>274681</td>\n",
       "      <td>99885</td>\n",
       "      <td>54</td>\n",
       "      <td>215504</td>\n",
       "      <td>205912</td>\n",
       "    </tr>\n",
       "  </tbody>\n",
       "</table>\n",
       "</div>"
      ],
      "text/plain": [
       "        Transaction ID     Company         City  Customer ID Payment_Mode  \\\n",
       "count           359392      359392       359392       359392       359392   \n",
       "unique          359392           2           19        46148            2   \n",
       "top           10440107  Yellow Cab  NEW YORK NY          494         Card   \n",
       "freq                 1      274681        99885           54       215504   \n",
       "\n",
       "        Gender  \n",
       "count   359392  \n",
       "unique       2  \n",
       "top       Male  \n",
       "freq    205912  "
      ]
     },
     "execution_count": 32,
     "metadata": {},
     "output_type": "execute_result"
    }
   ],
   "source": [
    "# This command will provide us information regarding object type variables in the data:\n",
    "df.describe(include='O')"
   ]
  },
  {
   "cell_type": "code",
   "execution_count": 33,
   "metadata": {},
   "outputs": [
    {
     "data": {
      "text/html": [
       "<div>\n",
       "<style scoped>\n",
       "    .dataframe tbody tr th:only-of-type {\n",
       "        vertical-align: middle;\n",
       "    }\n",
       "\n",
       "    .dataframe tbody tr th {\n",
       "        vertical-align: top;\n",
       "    }\n",
       "\n",
       "    .dataframe thead th {\n",
       "        text-align: right;\n",
       "    }\n",
       "</style>\n",
       "<table border=\"1\" class=\"dataframe\">\n",
       "  <thead>\n",
       "    <tr style=\"text-align: right;\">\n",
       "      <th></th>\n",
       "      <th>KM Travelled</th>\n",
       "      <th>Price Charged</th>\n",
       "      <th>Cost of Trip</th>\n",
       "      <th>Age</th>\n",
       "      <th>Income (USD/Month)</th>\n",
       "      <th>Population</th>\n",
       "      <th>Users</th>\n",
       "    </tr>\n",
       "  </thead>\n",
       "  <tbody>\n",
       "    <tr>\n",
       "      <th>0</th>\n",
       "      <td>30.45</td>\n",
       "      <td>370.95</td>\n",
       "      <td>313.6350</td>\n",
       "      <td>28</td>\n",
       "      <td>10813</td>\n",
       "      <td>814885</td>\n",
       "      <td>24701</td>\n",
       "    </tr>\n",
       "    <tr>\n",
       "      <th>1</th>\n",
       "      <td>26.19</td>\n",
       "      <td>598.70</td>\n",
       "      <td>317.4228</td>\n",
       "      <td>28</td>\n",
       "      <td>10813</td>\n",
       "      <td>814885</td>\n",
       "      <td>24701</td>\n",
       "    </tr>\n",
       "    <tr>\n",
       "      <th>2</th>\n",
       "      <td>42.55</td>\n",
       "      <td>792.05</td>\n",
       "      <td>597.4020</td>\n",
       "      <td>28</td>\n",
       "      <td>10813</td>\n",
       "      <td>814885</td>\n",
       "      <td>24701</td>\n",
       "    </tr>\n",
       "    <tr>\n",
       "      <th>3</th>\n",
       "      <td>28.62</td>\n",
       "      <td>358.52</td>\n",
       "      <td>334.8540</td>\n",
       "      <td>27</td>\n",
       "      <td>9237</td>\n",
       "      <td>814885</td>\n",
       "      <td>24701</td>\n",
       "    </tr>\n",
       "    <tr>\n",
       "      <th>4</th>\n",
       "      <td>36.38</td>\n",
       "      <td>721.10</td>\n",
       "      <td>467.1192</td>\n",
       "      <td>27</td>\n",
       "      <td>9237</td>\n",
       "      <td>814885</td>\n",
       "      <td>24701</td>\n",
       "    </tr>\n",
       "  </tbody>\n",
       "</table>\n",
       "</div>"
      ],
      "text/plain": [
       "   KM Travelled  Price Charged  Cost of Trip  Age  Income (USD/Month)  \\\n",
       "0         30.45         370.95      313.6350   28               10813   \n",
       "1         26.19         598.70      317.4228   28               10813   \n",
       "2         42.55         792.05      597.4020   28               10813   \n",
       "3         28.62         358.52      334.8540   27                9237   \n",
       "4         36.38         721.10      467.1192   27                9237   \n",
       "\n",
       "   Population  Users  \n",
       "0      814885  24701  \n",
       "1      814885  24701  \n",
       "2      814885  24701  \n",
       "3      814885  24701  \n",
       "4      814885  24701  "
      ]
     },
     "execution_count": 33,
     "metadata": {},
     "output_type": "execute_result"
    }
   ],
   "source": [
    "df_sum = df.select_dtypes(include = ['float64', 'int64'])\n",
    "df_sum.head()"
   ]
  },
  {
   "cell_type": "markdown",
   "metadata": {},
   "source": [
    "# Missing Value Analysis:"
   ]
  },
  {
   "cell_type": "code",
   "execution_count": 34,
   "metadata": {},
   "outputs": [
    {
     "data": {
      "text/plain": [
       "Transaction ID        0\n",
       "Date of Travel        0\n",
       "Company               0\n",
       "City                  0\n",
       "KM Travelled          0\n",
       "Price Charged         0\n",
       "Cost of Trip          0\n",
       "Customer ID           0\n",
       "Payment_Mode          0\n",
       "Gender                0\n",
       "Age                   0\n",
       "Income (USD/Month)    0\n",
       "Population            0\n",
       "Users                 0\n",
       "dtype: int64"
      ]
     },
     "execution_count": 34,
     "metadata": {},
     "output_type": "execute_result"
    }
   ],
   "source": [
    "df.isnull().sum()"
   ]
  },
  {
   "cell_type": "markdown",
   "metadata": {},
   "source": [
    "# Duplicate Value Analysis:"
   ]
  },
  {
   "cell_type": "code",
   "execution_count": 35,
   "metadata": {},
   "outputs": [
    {
     "data": {
      "text/plain": [
       "0"
      ]
     },
     "execution_count": 35,
     "metadata": {},
     "output_type": "execute_result"
    }
   ],
   "source": [
    "df.duplicated().sum()"
   ]
  },
  {
   "cell_type": "markdown",
   "metadata": {},
   "source": [
    "# Outlier Detection for features with Integer and Float type:"
   ]
  },
  {
   "cell_type": "code",
   "execution_count": 36,
   "metadata": {},
   "outputs": [
    {
     "name": "stdout",
     "output_type": "stream",
     "text": [
      "Data points considered outliers for the feature 'KM Travelled':\n"
     ]
    },
    {
     "data": {
      "text/html": [
       "<div>\n",
       "<style scoped>\n",
       "    .dataframe tbody tr th:only-of-type {\n",
       "        vertical-align: middle;\n",
       "    }\n",
       "\n",
       "    .dataframe tbody tr th {\n",
       "        vertical-align: top;\n",
       "    }\n",
       "\n",
       "    .dataframe thead th {\n",
       "        text-align: right;\n",
       "    }\n",
       "</style>\n",
       "<table border=\"1\" class=\"dataframe\">\n",
       "  <thead>\n",
       "    <tr style=\"text-align: right;\">\n",
       "      <th></th>\n",
       "      <th>Transaction ID</th>\n",
       "      <th>Date of Travel</th>\n",
       "      <th>Company</th>\n",
       "      <th>City</th>\n",
       "      <th>KM Travelled</th>\n",
       "      <th>Price Charged</th>\n",
       "      <th>Cost of Trip</th>\n",
       "      <th>Customer ID</th>\n",
       "      <th>Payment_Mode</th>\n",
       "      <th>Gender</th>\n",
       "      <th>Age</th>\n",
       "      <th>Income (USD/Month)</th>\n",
       "      <th>Population</th>\n",
       "      <th>Users</th>\n",
       "    </tr>\n",
       "  </thead>\n",
       "  <tbody>\n",
       "  </tbody>\n",
       "</table>\n",
       "</div>"
      ],
      "text/plain": [
       "Empty DataFrame\n",
       "Columns: [Transaction ID, Date of Travel, Company, City, KM Travelled, Price Charged, Cost of Trip, Customer ID, Payment_Mode, Gender, Age, Income (USD/Month), Population, Users]\n",
       "Index: []"
      ]
     },
     "metadata": {},
     "output_type": "display_data"
    },
    {
     "name": "stdout",
     "output_type": "stream",
     "text": [
      "Data points considered outliers for the feature 'Price Charged':\n"
     ]
    },
    {
     "data": {
      "text/html": [
       "<div>\n",
       "<style scoped>\n",
       "    .dataframe tbody tr th:only-of-type {\n",
       "        vertical-align: middle;\n",
       "    }\n",
       "\n",
       "    .dataframe tbody tr th {\n",
       "        vertical-align: top;\n",
       "    }\n",
       "\n",
       "    .dataframe thead th {\n",
       "        text-align: right;\n",
       "    }\n",
       "</style>\n",
       "<table border=\"1\" class=\"dataframe\">\n",
       "  <thead>\n",
       "    <tr style=\"text-align: right;\">\n",
       "      <th></th>\n",
       "      <th>Transaction ID</th>\n",
       "      <th>Date of Travel</th>\n",
       "      <th>Company</th>\n",
       "      <th>City</th>\n",
       "      <th>KM Travelled</th>\n",
       "      <th>Price Charged</th>\n",
       "      <th>Cost of Trip</th>\n",
       "      <th>Customer ID</th>\n",
       "      <th>Payment_Mode</th>\n",
       "      <th>Gender</th>\n",
       "      <th>Age</th>\n",
       "      <th>Income (USD/Month)</th>\n",
       "      <th>Population</th>\n",
       "      <th>Users</th>\n",
       "    </tr>\n",
       "  </thead>\n",
       "  <tbody>\n",
       "    <tr>\n",
       "      <th>24</th>\n",
       "      <td>10000384</td>\n",
       "      <td>2016-01-02</td>\n",
       "      <td>Yellow Cab</td>\n",
       "      <td>ATLANTA GA</td>\n",
       "      <td>33.93</td>\n",
       "      <td>1341.17</td>\n",
       "      <td>464.1624</td>\n",
       "      <td>27602</td>\n",
       "      <td>Card</td>\n",
       "      <td>Male</td>\n",
       "      <td>23</td>\n",
       "      <td>8542</td>\n",
       "      <td>814885</td>\n",
       "      <td>24701</td>\n",
       "    </tr>\n",
       "    <tr>\n",
       "      <th>28</th>\n",
       "      <td>10000385</td>\n",
       "      <td>2016-01-09</td>\n",
       "      <td>Yellow Cab</td>\n",
       "      <td>ATLANTA GA</td>\n",
       "      <td>42.18</td>\n",
       "      <td>1412.06</td>\n",
       "      <td>516.2832</td>\n",
       "      <td>27594</td>\n",
       "      <td>Cash</td>\n",
       "      <td>Male</td>\n",
       "      <td>28</td>\n",
       "      <td>3901</td>\n",
       "      <td>814885</td>\n",
       "      <td>24701</td>\n",
       "    </tr>\n",
       "    <tr>\n",
       "      <th>41</th>\n",
       "      <td>10000388</td>\n",
       "      <td>2016-01-07</td>\n",
       "      <td>Yellow Cab</td>\n",
       "      <td>ATLANTA GA</td>\n",
       "      <td>46.02</td>\n",
       "      <td>1540.61</td>\n",
       "      <td>596.4192</td>\n",
       "      <td>29039</td>\n",
       "      <td>Card</td>\n",
       "      <td>Male</td>\n",
       "      <td>35</td>\n",
       "      <td>17761</td>\n",
       "      <td>814885</td>\n",
       "      <td>24701</td>\n",
       "    </tr>\n",
       "    <tr>\n",
       "      <th>49</th>\n",
       "      <td>10000391</td>\n",
       "      <td>2016-01-09</td>\n",
       "      <td>Yellow Cab</td>\n",
       "      <td>ATLANTA GA</td>\n",
       "      <td>38.08</td>\n",
       "      <td>1239.72</td>\n",
       "      <td>539.2128</td>\n",
       "      <td>27891</td>\n",
       "      <td>Cash</td>\n",
       "      <td>Male</td>\n",
       "      <td>24</td>\n",
       "      <td>14593</td>\n",
       "      <td>814885</td>\n",
       "      <td>24701</td>\n",
       "    </tr>\n",
       "    <tr>\n",
       "      <th>71</th>\n",
       "      <td>10000398</td>\n",
       "      <td>2016-01-02</td>\n",
       "      <td>Yellow Cab</td>\n",
       "      <td>ATLANTA GA</td>\n",
       "      <td>38.85</td>\n",
       "      <td>1430.64</td>\n",
       "      <td>545.4540</td>\n",
       "      <td>29558</td>\n",
       "      <td>Cash</td>\n",
       "      <td>Male</td>\n",
       "      <td>27</td>\n",
       "      <td>9555</td>\n",
       "      <td>814885</td>\n",
       "      <td>24701</td>\n",
       "    </tr>\n",
       "    <tr>\n",
       "      <th>...</th>\n",
       "      <td>...</td>\n",
       "      <td>...</td>\n",
       "      <td>...</td>\n",
       "      <td>...</td>\n",
       "      <td>...</td>\n",
       "      <td>...</td>\n",
       "      <td>...</td>\n",
       "      <td>...</td>\n",
       "      <td>...</td>\n",
       "      <td>...</td>\n",
       "      <td>...</td>\n",
       "      <td>...</td>\n",
       "      <td>...</td>\n",
       "      <td>...</td>\n",
       "    </tr>\n",
       "    <tr>\n",
       "      <th>314659</th>\n",
       "      <td>10157751</td>\n",
       "      <td>2017-03-24</td>\n",
       "      <td>Yellow Cab</td>\n",
       "      <td>TUCSON AZ</td>\n",
       "      <td>46.80</td>\n",
       "      <td>1197.32</td>\n",
       "      <td>673.9200</td>\n",
       "      <td>40671</td>\n",
       "      <td>Card</td>\n",
       "      <td>Female</td>\n",
       "      <td>20</td>\n",
       "      <td>15675</td>\n",
       "      <td>631442</td>\n",
       "      <td>5712</td>\n",
       "    </tr>\n",
       "    <tr>\n",
       "      <th>314715</th>\n",
       "      <td>10169797</td>\n",
       "      <td>2017-05-08</td>\n",
       "      <td>Pink Cab</td>\n",
       "      <td>TUCSON AZ</td>\n",
       "      <td>35.35</td>\n",
       "      <td>1166.86</td>\n",
       "      <td>381.7800</td>\n",
       "      <td>40032</td>\n",
       "      <td>Card</td>\n",
       "      <td>Female</td>\n",
       "      <td>29</td>\n",
       "      <td>15852</td>\n",
       "      <td>631442</td>\n",
       "      <td>5712</td>\n",
       "    </tr>\n",
       "    <tr>\n",
       "      <th>346554</th>\n",
       "      <td>10033711</td>\n",
       "      <td>2016-05-08</td>\n",
       "      <td>Yellow Cab</td>\n",
       "      <td>WASHINGTON DC</td>\n",
       "      <td>44.84</td>\n",
       "      <td>1191.97</td>\n",
       "      <td>613.4112</td>\n",
       "      <td>51012</td>\n",
       "      <td>Cash</td>\n",
       "      <td>Female</td>\n",
       "      <td>63</td>\n",
       "      <td>25104</td>\n",
       "      <td>418859</td>\n",
       "      <td>127001</td>\n",
       "    </tr>\n",
       "    <tr>\n",
       "      <th>347685</th>\n",
       "      <td>10173969</td>\n",
       "      <td>2017-05-07</td>\n",
       "      <td>Yellow Cab</td>\n",
       "      <td>WASHINGTON DC</td>\n",
       "      <td>45.22</td>\n",
       "      <td>1160.14</td>\n",
       "      <td>634.8888</td>\n",
       "      <td>53650</td>\n",
       "      <td>Cash</td>\n",
       "      <td>Male</td>\n",
       "      <td>34</td>\n",
       "      <td>16775</td>\n",
       "      <td>418859</td>\n",
       "      <td>127001</td>\n",
       "    </tr>\n",
       "    <tr>\n",
       "      <th>354039</th>\n",
       "      <td>10173904</td>\n",
       "      <td>2017-05-12</td>\n",
       "      <td>Yellow Cab</td>\n",
       "      <td>WASHINGTON DC</td>\n",
       "      <td>46.80</td>\n",
       "      <td>1231.56</td>\n",
       "      <td>617.7600</td>\n",
       "      <td>51447</td>\n",
       "      <td>Cash</td>\n",
       "      <td>Female</td>\n",
       "      <td>27</td>\n",
       "      <td>23109</td>\n",
       "      <td>418859</td>\n",
       "      <td>127001</td>\n",
       "    </tr>\n",
       "  </tbody>\n",
       "</table>\n",
       "<p>5958 rows × 14 columns</p>\n",
       "</div>"
      ],
      "text/plain": [
       "       Transaction ID Date of Travel     Company           City  KM Travelled  \\\n",
       "24           10000384     2016-01-02  Yellow Cab     ATLANTA GA         33.93   \n",
       "28           10000385     2016-01-09  Yellow Cab     ATLANTA GA         42.18   \n",
       "41           10000388     2016-01-07  Yellow Cab     ATLANTA GA         46.02   \n",
       "49           10000391     2016-01-09  Yellow Cab     ATLANTA GA         38.08   \n",
       "71           10000398     2016-01-02  Yellow Cab     ATLANTA GA         38.85   \n",
       "...               ...            ...         ...            ...           ...   \n",
       "314659       10157751     2017-03-24  Yellow Cab      TUCSON AZ         46.80   \n",
       "314715       10169797     2017-05-08    Pink Cab      TUCSON AZ         35.35   \n",
       "346554       10033711     2016-05-08  Yellow Cab  WASHINGTON DC         44.84   \n",
       "347685       10173969     2017-05-07  Yellow Cab  WASHINGTON DC         45.22   \n",
       "354039       10173904     2017-05-12  Yellow Cab  WASHINGTON DC         46.80   \n",
       "\n",
       "        Price Charged  Cost of Trip Customer ID Payment_Mode  Gender  Age  \\\n",
       "24            1341.17      464.1624       27602         Card    Male   23   \n",
       "28            1412.06      516.2832       27594         Cash    Male   28   \n",
       "41            1540.61      596.4192       29039         Card    Male   35   \n",
       "49            1239.72      539.2128       27891         Cash    Male   24   \n",
       "71            1430.64      545.4540       29558         Cash    Male   27   \n",
       "...               ...           ...         ...          ...     ...  ...   \n",
       "314659        1197.32      673.9200       40671         Card  Female   20   \n",
       "314715        1166.86      381.7800       40032         Card  Female   29   \n",
       "346554        1191.97      613.4112       51012         Cash  Female   63   \n",
       "347685        1160.14      634.8888       53650         Cash    Male   34   \n",
       "354039        1231.56      617.7600       51447         Cash  Female   27   \n",
       "\n",
       "        Income (USD/Month)  Population   Users  \n",
       "24                    8542      814885   24701  \n",
       "28                    3901      814885   24701  \n",
       "41                   17761      814885   24701  \n",
       "49                   14593      814885   24701  \n",
       "71                    9555      814885   24701  \n",
       "...                    ...         ...     ...  \n",
       "314659               15675      631442    5712  \n",
       "314715               15852      631442    5712  \n",
       "346554               25104      418859  127001  \n",
       "347685               16775      418859  127001  \n",
       "354039               23109      418859  127001  \n",
       "\n",
       "[5958 rows x 14 columns]"
      ]
     },
     "metadata": {},
     "output_type": "display_data"
    },
    {
     "name": "stdout",
     "output_type": "stream",
     "text": [
      "Data points considered outliers for the feature 'Cost of Trip':\n"
     ]
    },
    {
     "data": {
      "text/html": [
       "<div>\n",
       "<style scoped>\n",
       "    .dataframe tbody tr th:only-of-type {\n",
       "        vertical-align: middle;\n",
       "    }\n",
       "\n",
       "    .dataframe tbody tr th {\n",
       "        vertical-align: top;\n",
       "    }\n",
       "\n",
       "    .dataframe thead th {\n",
       "        text-align: right;\n",
       "    }\n",
       "</style>\n",
       "<table border=\"1\" class=\"dataframe\">\n",
       "  <thead>\n",
       "    <tr style=\"text-align: right;\">\n",
       "      <th></th>\n",
       "      <th>Transaction ID</th>\n",
       "      <th>Date of Travel</th>\n",
       "      <th>Company</th>\n",
       "      <th>City</th>\n",
       "      <th>KM Travelled</th>\n",
       "      <th>Price Charged</th>\n",
       "      <th>Cost of Trip</th>\n",
       "      <th>Customer ID</th>\n",
       "      <th>Payment_Mode</th>\n",
       "      <th>Gender</th>\n",
       "      <th>Age</th>\n",
       "      <th>Income (USD/Month)</th>\n",
       "      <th>Population</th>\n",
       "      <th>Users</th>\n",
       "    </tr>\n",
       "  </thead>\n",
       "  <tbody>\n",
       "  </tbody>\n",
       "</table>\n",
       "</div>"
      ],
      "text/plain": [
       "Empty DataFrame\n",
       "Columns: [Transaction ID, Date of Travel, Company, City, KM Travelled, Price Charged, Cost of Trip, Customer ID, Payment_Mode, Gender, Age, Income (USD/Month), Population, Users]\n",
       "Index: []"
      ]
     },
     "metadata": {},
     "output_type": "display_data"
    },
    {
     "name": "stdout",
     "output_type": "stream",
     "text": [
      "Data points considered outliers for the feature 'Age':\n"
     ]
    },
    {
     "data": {
      "text/html": [
       "<div>\n",
       "<style scoped>\n",
       "    .dataframe tbody tr th:only-of-type {\n",
       "        vertical-align: middle;\n",
       "    }\n",
       "\n",
       "    .dataframe tbody tr th {\n",
       "        vertical-align: top;\n",
       "    }\n",
       "\n",
       "    .dataframe thead th {\n",
       "        text-align: right;\n",
       "    }\n",
       "</style>\n",
       "<table border=\"1\" class=\"dataframe\">\n",
       "  <thead>\n",
       "    <tr style=\"text-align: right;\">\n",
       "      <th></th>\n",
       "      <th>Transaction ID</th>\n",
       "      <th>Date of Travel</th>\n",
       "      <th>Company</th>\n",
       "      <th>City</th>\n",
       "      <th>KM Travelled</th>\n",
       "      <th>Price Charged</th>\n",
       "      <th>Cost of Trip</th>\n",
       "      <th>Customer ID</th>\n",
       "      <th>Payment_Mode</th>\n",
       "      <th>Gender</th>\n",
       "      <th>Age</th>\n",
       "      <th>Income (USD/Month)</th>\n",
       "      <th>Population</th>\n",
       "      <th>Users</th>\n",
       "    </tr>\n",
       "  </thead>\n",
       "  <tbody>\n",
       "  </tbody>\n",
       "</table>\n",
       "</div>"
      ],
      "text/plain": [
       "Empty DataFrame\n",
       "Columns: [Transaction ID, Date of Travel, Company, City, KM Travelled, Price Charged, Cost of Trip, Customer ID, Payment_Mode, Gender, Age, Income (USD/Month), Population, Users]\n",
       "Index: []"
      ]
     },
     "metadata": {},
     "output_type": "display_data"
    },
    {
     "name": "stdout",
     "output_type": "stream",
     "text": [
      "Data points considered outliers for the feature 'Income (USD/Month)':\n"
     ]
    },
    {
     "data": {
      "text/html": [
       "<div>\n",
       "<style scoped>\n",
       "    .dataframe tbody tr th:only-of-type {\n",
       "        vertical-align: middle;\n",
       "    }\n",
       "\n",
       "    .dataframe tbody tr th {\n",
       "        vertical-align: top;\n",
       "    }\n",
       "\n",
       "    .dataframe thead th {\n",
       "        text-align: right;\n",
       "    }\n",
       "</style>\n",
       "<table border=\"1\" class=\"dataframe\">\n",
       "  <thead>\n",
       "    <tr style=\"text-align: right;\">\n",
       "      <th></th>\n",
       "      <th>Transaction ID</th>\n",
       "      <th>Date of Travel</th>\n",
       "      <th>Company</th>\n",
       "      <th>City</th>\n",
       "      <th>KM Travelled</th>\n",
       "      <th>Price Charged</th>\n",
       "      <th>Cost of Trip</th>\n",
       "      <th>Customer ID</th>\n",
       "      <th>Payment_Mode</th>\n",
       "      <th>Gender</th>\n",
       "      <th>Age</th>\n",
       "      <th>Income (USD/Month)</th>\n",
       "      <th>Population</th>\n",
       "      <th>Users</th>\n",
       "    </tr>\n",
       "  </thead>\n",
       "  <tbody>\n",
       "  </tbody>\n",
       "</table>\n",
       "</div>"
      ],
      "text/plain": [
       "Empty DataFrame\n",
       "Columns: [Transaction ID, Date of Travel, Company, City, KM Travelled, Price Charged, Cost of Trip, Customer ID, Payment_Mode, Gender, Age, Income (USD/Month), Population, Users]\n",
       "Index: []"
      ]
     },
     "metadata": {},
     "output_type": "display_data"
    },
    {
     "name": "stdout",
     "output_type": "stream",
     "text": [
      "Data points considered outliers for the feature 'Population':\n"
     ]
    },
    {
     "data": {
      "text/html": [
       "<div>\n",
       "<style scoped>\n",
       "    .dataframe tbody tr th:only-of-type {\n",
       "        vertical-align: middle;\n",
       "    }\n",
       "\n",
       "    .dataframe tbody tr th {\n",
       "        vertical-align: top;\n",
       "    }\n",
       "\n",
       "    .dataframe thead th {\n",
       "        text-align: right;\n",
       "    }\n",
       "</style>\n",
       "<table border=\"1\" class=\"dataframe\">\n",
       "  <thead>\n",
       "    <tr style=\"text-align: right;\">\n",
       "      <th></th>\n",
       "      <th>Transaction ID</th>\n",
       "      <th>Date of Travel</th>\n",
       "      <th>Company</th>\n",
       "      <th>City</th>\n",
       "      <th>KM Travelled</th>\n",
       "      <th>Price Charged</th>\n",
       "      <th>Cost of Trip</th>\n",
       "      <th>Customer ID</th>\n",
       "      <th>Payment_Mode</th>\n",
       "      <th>Gender</th>\n",
       "      <th>Age</th>\n",
       "      <th>Income (USD/Month)</th>\n",
       "      <th>Population</th>\n",
       "      <th>Users</th>\n",
       "    </tr>\n",
       "  </thead>\n",
       "  <tbody>\n",
       "  </tbody>\n",
       "</table>\n",
       "</div>"
      ],
      "text/plain": [
       "Empty DataFrame\n",
       "Columns: [Transaction ID, Date of Travel, Company, City, KM Travelled, Price Charged, Cost of Trip, Customer ID, Payment_Mode, Gender, Age, Income (USD/Month), Population, Users]\n",
       "Index: []"
      ]
     },
     "metadata": {},
     "output_type": "display_data"
    },
    {
     "name": "stdout",
     "output_type": "stream",
     "text": [
      "Data points considered outliers for the feature 'Users':\n"
     ]
    },
    {
     "data": {
      "text/html": [
       "<div>\n",
       "<style scoped>\n",
       "    .dataframe tbody tr th:only-of-type {\n",
       "        vertical-align: middle;\n",
       "    }\n",
       "\n",
       "    .dataframe tbody tr th {\n",
       "        vertical-align: top;\n",
       "    }\n",
       "\n",
       "    .dataframe thead th {\n",
       "        text-align: right;\n",
       "    }\n",
       "</style>\n",
       "<table border=\"1\" class=\"dataframe\">\n",
       "  <thead>\n",
       "    <tr style=\"text-align: right;\">\n",
       "      <th></th>\n",
       "      <th>Transaction ID</th>\n",
       "      <th>Date of Travel</th>\n",
       "      <th>Company</th>\n",
       "      <th>City</th>\n",
       "      <th>KM Travelled</th>\n",
       "      <th>Price Charged</th>\n",
       "      <th>Cost of Trip</th>\n",
       "      <th>Customer ID</th>\n",
       "      <th>Payment_Mode</th>\n",
       "      <th>Gender</th>\n",
       "      <th>Age</th>\n",
       "      <th>Income (USD/Month)</th>\n",
       "      <th>Population</th>\n",
       "      <th>Users</th>\n",
       "    </tr>\n",
       "  </thead>\n",
       "  <tbody>\n",
       "  </tbody>\n",
       "</table>\n",
       "</div>"
      ],
      "text/plain": [
       "Empty DataFrame\n",
       "Columns: [Transaction ID, Date of Travel, Company, City, KM Travelled, Price Charged, Cost of Trip, Customer ID, Payment_Mode, Gender, Age, Income (USD/Month), Population, Users]\n",
       "Index: []"
      ]
     },
     "metadata": {},
     "output_type": "display_data"
    },
    {
     "name": "stdout",
     "output_type": "stream",
     "text": [
      "Outliers: []\n"
     ]
    }
   ],
   "source": [
    "outliers=[]\n",
    "# For each feature find the data points with extreme high or low values\n",
    "for feature in df_sum.keys():\n",
    "    \n",
    "    # TODO: Calculate Q1 (25th percentile of the data) for the given feature\n",
    "    Q1 = np.percentile(df_sum[feature],25)\n",
    "    \n",
    "    # TODO: Calculate Q3 (75th percentile of the data) for the given feature\n",
    "    Q3 = np.percentile(df_sum[feature],75)\n",
    "    \n",
    "    # TODO: Use the interquartile range to calculate an outlier step (1.5 times the interquartile range)\n",
    "    step = 1.5 * (Q3-Q1) \n",
    "    \n",
    "    # Display the outliers\n",
    "    print(\"Data points considered outliers for the feature '{}':\".format(feature))\n",
    "    out=df[~((df_sum[feature] >= Q1 - step) & (df_sum[feature] <= Q3 + step))]\n",
    "    display(out)\n",
    "    outliers=outliers+list(out.index.values)\n",
    "    \n",
    "# Select the indices for data points you wish to remove\n",
    "outliers = list(set([x for x in outliers if outliers.count(x) > 1]))    \n",
    "print (\"Outliers: {}\".format(outliers))\n"
   ]
  },
  {
   "cell_type": "code",
   "execution_count": null,
   "metadata": {},
   "outputs": [],
   "source": []
  },
  {
   "cell_type": "code",
   "execution_count": 37,
   "metadata": {},
   "outputs": [],
   "source": [
    "Profit=df['Price Charged']-df['Cost of Trip']\n",
    "df['Profit']=Profit"
   ]
  },
  {
   "cell_type": "markdown",
   "metadata": {},
   "source": [
    "# Exploration of Complete and Important Variables:"
   ]
  },
  {
   "cell_type": "markdown",
   "metadata": {},
   "source": [
    "Company and Gender Preference: "
   ]
  },
  {
   "cell_type": "code",
   "execution_count": 38,
   "metadata": {},
   "outputs": [
    {
     "data": {
      "text/plain": [
       "array(['Pink Cab', 'Yellow Cab'], dtype=object)"
      ]
     },
     "execution_count": 38,
     "metadata": {},
     "output_type": "execute_result"
    }
   ],
   "source": [
    "df['Company'].unique()"
   ]
  },
  {
   "cell_type": "code",
   "execution_count": 39,
   "metadata": {},
   "outputs": [
    {
     "data": {
      "text/plain": [
       "Company\n",
       "Pink Cab       84711\n",
       "Yellow Cab    274681\n",
       "Name: Gender, dtype: int64"
      ]
     },
     "execution_count": 39,
     "metadata": {},
     "output_type": "execute_result"
    }
   ],
   "source": [
    "df.groupby('Company')['Gender'].count()"
   ]
  },
  {
   "cell_type": "code",
   "execution_count": 40,
   "metadata": {},
   "outputs": [
    {
     "data": {
      "image/png": "[encoded data removed]",
      "text/plain": [
       "<Figure size 432x288 with 1 Axes>"
      ]
     },
     "metadata": {
      "needs_background": "light"
     },
     "output_type": "display_data"
    }
   ],
   "source": [
    "#plt.figure(figsize=(15,6))\n",
    "sns.countplot(x='Company', hue='Gender', data=df);"
   ]
  },
  {
   "cell_type": "markdown",
   "metadata": {},
   "source": [
    "City and Company"
   ]
  },
  {
   "cell_type": "code",
   "execution_count": 41,
   "metadata": {},
   "outputs": [
    {
     "data": {
      "text/plain": [
       "array(['ATLANTA GA', 'AUSTIN TX', 'BOSTON MA', 'CHICAGO IL', 'DALLAS TX',\n",
       "       'DENVER CO', 'LOS ANGELES CA', 'MIAMI FL', 'NASHVILLE TN',\n",
       "       'NEW YORK NY', 'ORANGE COUNTY', 'PHOENIX AZ', 'PITTSBURGH PA',\n",
       "       'SACRAMENTO CA', 'SAN DIEGO CA', 'SEATTLE WA', 'SILICON VALLEY',\n",
       "       'TUCSON AZ', 'WASHINGTON DC'], dtype=object)"
      ]
     },
     "execution_count": 41,
     "metadata": {},
     "output_type": "execute_result"
    }
   ],
   "source": [
    "df['City'].unique()"
   ]
  },
  {
   "cell_type": "code",
   "execution_count": 42,
   "metadata": {},
   "outputs": [
    {
     "name": "stderr",
     "output_type": "stream",
     "text": [
      "E:\\python\\lib\\site-packages\\seaborn\\categorical.py:3669: UserWarning: The `factorplot` function has been renamed to `catplot`. The original name will be removed in a future release. Please update your code. Note that the default `kind` in `factorplot` (`'point'`) has changed `'strip'` in `catplot`.\n",
      "  warnings.warn(msg)\n"
     ]
    },
    {
     "data": {
      "text/plain": [
       "<Figure size 1080x432 with 0 Axes>"
      ]
     },
     "metadata": {},
     "output_type": "display_data"
    },
    {
     "data": {
      "image/png": "[encoded data removed]",
      "text/plain": [
       "<Figure size 6840x360 with 19 Axes>"
      ]
     },
     "metadata": {
      "needs_background": "light"
     },
     "output_type": "display_data"
    }
   ],
   "source": [
    "plt.figure(figsize=(15,6))\n",
    "sns.factorplot(x='Company', col='City', kind='count',data=df);"
   ]
  },
  {
   "cell_type": "markdown",
   "metadata": {},
   "source": [
    "Company, City and Gender:"
   ]
  },
  {
   "cell_type": "code",
   "execution_count": 43,
   "metadata": {},
   "outputs": [
    {
     "data": {
      "image/png": "[encoded data removed]",
      "text/plain": [
       "<Figure size 6992.2x360 with 19 Axes>"
      ]
     },
     "metadata": {
      "needs_background": "light"
     },
     "output_type": "display_data"
    }
   ],
   "source": [
    "sns.set_context('poster')\n",
    "sns.catplot(x='Company', col='City', hue='Gender', data=df, kind='count');"
   ]
  },
  {
   "cell_type": "markdown",
   "metadata": {},
   "source": [
    "Company and Price Charged:"
   ]
  },
  {
   "cell_type": "code",
   "execution_count": 44,
   "metadata": {},
   "outputs": [
    {
     "data": {
      "text/html": [
       "<div>\n",
       "<style scoped>\n",
       "    .dataframe tbody tr th:only-of-type {\n",
       "        vertical-align: middle;\n",
       "    }\n",
       "\n",
       "    .dataframe tbody tr th {\n",
       "        vertical-align: top;\n",
       "    }\n",
       "\n",
       "    .dataframe thead th {\n",
       "        text-align: right;\n",
       "    }\n",
       "</style>\n",
       "<table border=\"1\" class=\"dataframe\">\n",
       "  <thead>\n",
       "    <tr style=\"text-align: right;\">\n",
       "      <th></th>\n",
       "      <th>Price Charged</th>\n",
       "    </tr>\n",
       "    <tr>\n",
       "      <th>Company</th>\n",
       "      <th></th>\n",
       "    </tr>\n",
       "  </thead>\n",
       "  <tbody>\n",
       "    <tr>\n",
       "      <th>Yellow Cab</th>\n",
       "      <td>458.181990</td>\n",
       "    </tr>\n",
       "    <tr>\n",
       "      <th>Pink Cab</th>\n",
       "      <td>310.800856</td>\n",
       "    </tr>\n",
       "  </tbody>\n",
       "</table>\n",
       "</div>"
      ],
      "text/plain": [
       "            Price Charged\n",
       "Company                  \n",
       "Yellow Cab     458.181990\n",
       "Pink Cab       310.800856"
      ]
     },
     "execution_count": 44,
     "metadata": {},
     "output_type": "execute_result"
    }
   ],
   "source": [
    "df.groupby([\"Company\"])\\\n",
    ".agg({\"Price Charged\" : \"mean\"})\\\n",
    ".sort_values(by=\"Price Charged\", ascending=False)"
   ]
  },
  {
   "cell_type": "code",
   "execution_count": 45,
   "metadata": {},
   "outputs": [
    {
     "data": {
      "image/png": "[encoded data removed]",
      "text/plain": [
       "<Figure size 432x288 with 1 Axes>"
      ]
     },
     "metadata": {},
     "output_type": "display_data"
    }
   ],
   "source": [
    "x = [458.181990,310.800856]\n",
    "labels = ['Yellow Cab','Pink Cab']\n",
    "colors = ['tab:blue','tab:red']\n",
    "\n",
    "fig, ax = plt.subplots()\n",
    "ax.pie(x, labels = labels, colors = colors, autopct='%.0f%%')\n",
    "ax.set_title('Mean Price Charged')\n",
    "plt.show()"
   ]
  },
  {
   "cell_type": "markdown",
   "metadata": {},
   "source": [
    "Company and Cost of Trip:"
   ]
  },
  {
   "cell_type": "code",
   "execution_count": 46,
   "metadata": {},
   "outputs": [
    {
     "data": {
      "text/html": [
       "<div>\n",
       "<style scoped>\n",
       "    .dataframe tbody tr th:only-of-type {\n",
       "        vertical-align: middle;\n",
       "    }\n",
       "\n",
       "    .dataframe tbody tr th {\n",
       "        vertical-align: top;\n",
       "    }\n",
       "\n",
       "    .dataframe thead th {\n",
       "        text-align: right;\n",
       "    }\n",
       "</style>\n",
       "<table border=\"1\" class=\"dataframe\">\n",
       "  <thead>\n",
       "    <tr style=\"text-align: right;\">\n",
       "      <th></th>\n",
       "      <th>Cost of Trip</th>\n",
       "    </tr>\n",
       "    <tr>\n",
       "      <th>Company</th>\n",
       "      <th></th>\n",
       "    </tr>\n",
       "  </thead>\n",
       "  <tbody>\n",
       "    <tr>\n",
       "      <th>Yellow Cab</th>\n",
       "      <td>297.922004</td>\n",
       "    </tr>\n",
       "    <tr>\n",
       "      <th>Pink Cab</th>\n",
       "      <td>248.148682</td>\n",
       "    </tr>\n",
       "  </tbody>\n",
       "</table>\n",
       "</div>"
      ],
      "text/plain": [
       "            Cost of Trip\n",
       "Company                 \n",
       "Yellow Cab    297.922004\n",
       "Pink Cab      248.148682"
      ]
     },
     "execution_count": 46,
     "metadata": {},
     "output_type": "execute_result"
    }
   ],
   "source": [
    "df.groupby([\"Company\"])\\\n",
    ".agg({\"Cost of Trip\" : \"mean\"})\\\n",
    ".sort_values(by=\"Cost of Trip\", ascending=False)"
   ]
  },
  {
   "cell_type": "code",
   "execution_count": 47,
   "metadata": {},
   "outputs": [
    {
     "data": {
      "image/png": "[encoded data removed]",
      "text/plain": [
       "<Figure size 432x288 with 1 Axes>"
      ]
     },
     "metadata": {},
     "output_type": "display_data"
    }
   ],
   "source": [
    "x = [297.922004,248.148682]\n",
    "labels = ['Yellow Cab','Pink Cab']\n",
    "colors = ['tab:blue','tab:red']\n",
    "\n",
    "fig, ax = plt.subplots()\n",
    "ax.pie(x, labels = labels, colors = colors, autopct='%.0f%%')\n",
    "ax.set_title('Mean Cost of Trip')\n",
    "plt.show()"
   ]
  },
  {
   "cell_type": "code",
   "execution_count": 48,
   "metadata": {},
   "outputs": [
    {
     "data": {
      "text/plain": [
       "Company\n",
       "Pink Cab       62.652174\n",
       "Yellow Cab    160.259986\n",
       "Name: Profit, dtype: float64"
      ]
     },
     "execution_count": 48,
     "metadata": {},
     "output_type": "execute_result"
    }
   ],
   "source": [
    "df.groupby('Company')['Profit'].mean()"
   ]
  },
  {
   "cell_type": "code",
   "execution_count": 49,
   "metadata": {},
   "outputs": [
    {
     "data": {
      "text/html": [
       "<div>\n",
       "<style scoped>\n",
       "    .dataframe tbody tr th:only-of-type {\n",
       "        vertical-align: middle;\n",
       "    }\n",
       "\n",
       "    .dataframe tbody tr th {\n",
       "        vertical-align: top;\n",
       "    }\n",
       "\n",
       "    .dataframe thead th {\n",
       "        text-align: right;\n",
       "    }\n",
       "</style>\n",
       "<table border=\"1\" class=\"dataframe\">\n",
       "  <thead>\n",
       "    <tr style=\"text-align: right;\">\n",
       "      <th></th>\n",
       "      <th>Profit</th>\n",
       "    </tr>\n",
       "    <tr>\n",
       "      <th>Company</th>\n",
       "      <th></th>\n",
       "    </tr>\n",
       "  </thead>\n",
       "  <tbody>\n",
       "    <tr>\n",
       "      <th>Yellow Cab</th>\n",
       "      <td>89.240674</td>\n",
       "    </tr>\n",
       "    <tr>\n",
       "      <th>Pink Cab</th>\n",
       "      <td>10.759326</td>\n",
       "    </tr>\n",
       "  </tbody>\n",
       "</table>\n",
       "</div>"
      ],
      "text/plain": [
       "               Profit\n",
       "Company              \n",
       "Yellow Cab  89.240674\n",
       "Pink Cab    10.759326"
      ]
     },
     "execution_count": 49,
     "metadata": {},
     "output_type": "execute_result"
    }
   ],
   "source": [
    "df.groupby([\"Company\"])\\\n",
    ".agg({\"Profit\" : \"sum\"})[[\"Profit\"]]\\\n",
    ".apply(lambda x: 100*x/x.sum())\\\n",
    ".sort_values(by=\"Profit\", ascending=False)"
   ]
  },
  {
   "cell_type": "code",
   "execution_count": 50,
   "metadata": {},
   "outputs": [
    {
     "data": {
      "image/png": "[encoded data removed]",
      "text/plain": [
       "<Figure size 432x288 with 1 Axes>"
      ]
     },
     "metadata": {},
     "output_type": "display_data"
    }
   ],
   "source": [
    "x = [89.240674,10.759326]\n",
    "labels = ['Yellow Cab','Pink Cab']\n",
    "colors = ['tab:blue','tab:red']\n",
    "\n",
    "fig, ax = plt.subplots()\n",
    "ax.pie(x, labels = labels, colors = colors, autopct='%.0f%%')\n",
    "ax.set_title('Profit')\n",
    "plt.show()"
   ]
  },
  {
   "cell_type": "markdown",
   "metadata": {},
   "source": [
    "Company, City and Users: "
   ]
  },
  {
   "cell_type": "code",
   "execution_count": 51,
   "metadata": {},
   "outputs": [],
   "source": [
    "temp=df.groupby(['Company', 'City'])['Users'].count().reset_index(name='total')"
   ]
  },
  {
   "cell_type": "code",
   "execution_count": 52,
   "metadata": {},
   "outputs": [
    {
     "data": {
      "text/html": [
       "<div>\n",
       "<style scoped>\n",
       "    .dataframe tbody tr th:only-of-type {\n",
       "        vertical-align: middle;\n",
       "    }\n",
       "\n",
       "    .dataframe tbody tr th {\n",
       "        vertical-align: top;\n",
       "    }\n",
       "\n",
       "    .dataframe thead th {\n",
       "        text-align: right;\n",
       "    }\n",
       "</style>\n",
       "<table border=\"1\" class=\"dataframe\">\n",
       "  <thead>\n",
       "    <tr style=\"text-align: right;\">\n",
       "      <th></th>\n",
       "      <th>Company</th>\n",
       "      <th>City</th>\n",
       "      <th>total</th>\n",
       "    </tr>\n",
       "  </thead>\n",
       "  <tbody>\n",
       "    <tr>\n",
       "      <th>0</th>\n",
       "      <td>Pink Cab</td>\n",
       "      <td>ATLANTA GA</td>\n",
       "      <td>1762</td>\n",
       "    </tr>\n",
       "    <tr>\n",
       "      <th>1</th>\n",
       "      <td>Pink Cab</td>\n",
       "      <td>AUSTIN TX</td>\n",
       "      <td>1868</td>\n",
       "    </tr>\n",
       "    <tr>\n",
       "      <th>2</th>\n",
       "      <td>Pink Cab</td>\n",
       "      <td>BOSTON MA</td>\n",
       "      <td>5186</td>\n",
       "    </tr>\n",
       "    <tr>\n",
       "      <th>3</th>\n",
       "      <td>Pink Cab</td>\n",
       "      <td>CHICAGO IL</td>\n",
       "      <td>9361</td>\n",
       "    </tr>\n",
       "    <tr>\n",
       "      <th>4</th>\n",
       "      <td>Pink Cab</td>\n",
       "      <td>DALLAS TX</td>\n",
       "      <td>1380</td>\n",
       "    </tr>\n",
       "    <tr>\n",
       "      <th>5</th>\n",
       "      <td>Pink Cab</td>\n",
       "      <td>DENVER CO</td>\n",
       "      <td>1394</td>\n",
       "    </tr>\n",
       "    <tr>\n",
       "      <th>6</th>\n",
       "      <td>Pink Cab</td>\n",
       "      <td>LOS ANGELES CA</td>\n",
       "      <td>19865</td>\n",
       "    </tr>\n",
       "    <tr>\n",
       "      <th>7</th>\n",
       "      <td>Pink Cab</td>\n",
       "      <td>MIAMI FL</td>\n",
       "      <td>2002</td>\n",
       "    </tr>\n",
       "    <tr>\n",
       "      <th>8</th>\n",
       "      <td>Pink Cab</td>\n",
       "      <td>NASHVILLE TN</td>\n",
       "      <td>1841</td>\n",
       "    </tr>\n",
       "    <tr>\n",
       "      <th>9</th>\n",
       "      <td>Pink Cab</td>\n",
       "      <td>NEW YORK NY</td>\n",
       "      <td>13967</td>\n",
       "    </tr>\n",
       "    <tr>\n",
       "      <th>10</th>\n",
       "      <td>Pink Cab</td>\n",
       "      <td>ORANGE COUNTY</td>\n",
       "      <td>1513</td>\n",
       "    </tr>\n",
       "    <tr>\n",
       "      <th>11</th>\n",
       "      <td>Pink Cab</td>\n",
       "      <td>PHOENIX AZ</td>\n",
       "      <td>864</td>\n",
       "    </tr>\n",
       "    <tr>\n",
       "      <th>12</th>\n",
       "      <td>Pink Cab</td>\n",
       "      <td>PITTSBURGH PA</td>\n",
       "      <td>682</td>\n",
       "    </tr>\n",
       "    <tr>\n",
       "      <th>13</th>\n",
       "      <td>Pink Cab</td>\n",
       "      <td>SACRAMENTO CA</td>\n",
       "      <td>1334</td>\n",
       "    </tr>\n",
       "    <tr>\n",
       "      <th>14</th>\n",
       "      <td>Pink Cab</td>\n",
       "      <td>SAN DIEGO CA</td>\n",
       "      <td>10672</td>\n",
       "    </tr>\n",
       "    <tr>\n",
       "      <th>15</th>\n",
       "      <td>Pink Cab</td>\n",
       "      <td>SEATTLE WA</td>\n",
       "      <td>2732</td>\n",
       "    </tr>\n",
       "    <tr>\n",
       "      <th>16</th>\n",
       "      <td>Pink Cab</td>\n",
       "      <td>SILICON VALLEY</td>\n",
       "      <td>3797</td>\n",
       "    </tr>\n",
       "    <tr>\n",
       "      <th>17</th>\n",
       "      <td>Pink Cab</td>\n",
       "      <td>TUCSON AZ</td>\n",
       "      <td>799</td>\n",
       "    </tr>\n",
       "    <tr>\n",
       "      <th>18</th>\n",
       "      <td>Pink Cab</td>\n",
       "      <td>WASHINGTON DC</td>\n",
       "      <td>3692</td>\n",
       "    </tr>\n",
       "    <tr>\n",
       "      <th>19</th>\n",
       "      <td>Yellow Cab</td>\n",
       "      <td>ATLANTA GA</td>\n",
       "      <td>5795</td>\n",
       "    </tr>\n",
       "    <tr>\n",
       "      <th>20</th>\n",
       "      <td>Yellow Cab</td>\n",
       "      <td>AUSTIN TX</td>\n",
       "      <td>3028</td>\n",
       "    </tr>\n",
       "    <tr>\n",
       "      <th>21</th>\n",
       "      <td>Yellow Cab</td>\n",
       "      <td>BOSTON MA</td>\n",
       "      <td>24506</td>\n",
       "    </tr>\n",
       "    <tr>\n",
       "      <th>22</th>\n",
       "      <td>Yellow Cab</td>\n",
       "      <td>CHICAGO IL</td>\n",
       "      <td>47264</td>\n",
       "    </tr>\n",
       "    <tr>\n",
       "      <th>23</th>\n",
       "      <td>Yellow Cab</td>\n",
       "      <td>DALLAS TX</td>\n",
       "      <td>5637</td>\n",
       "    </tr>\n",
       "    <tr>\n",
       "      <th>24</th>\n",
       "      <td>Yellow Cab</td>\n",
       "      <td>DENVER CO</td>\n",
       "      <td>2431</td>\n",
       "    </tr>\n",
       "    <tr>\n",
       "      <th>25</th>\n",
       "      <td>Yellow Cab</td>\n",
       "      <td>LOS ANGELES CA</td>\n",
       "      <td>28168</td>\n",
       "    </tr>\n",
       "    <tr>\n",
       "      <th>26</th>\n",
       "      <td>Yellow Cab</td>\n",
       "      <td>MIAMI FL</td>\n",
       "      <td>4452</td>\n",
       "    </tr>\n",
       "    <tr>\n",
       "      <th>27</th>\n",
       "      <td>Yellow Cab</td>\n",
       "      <td>NASHVILLE TN</td>\n",
       "      <td>1169</td>\n",
       "    </tr>\n",
       "    <tr>\n",
       "      <th>28</th>\n",
       "      <td>Yellow Cab</td>\n",
       "      <td>NEW YORK NY</td>\n",
       "      <td>85918</td>\n",
       "    </tr>\n",
       "    <tr>\n",
       "      <th>29</th>\n",
       "      <td>Yellow Cab</td>\n",
       "      <td>ORANGE COUNTY</td>\n",
       "      <td>2469</td>\n",
       "    </tr>\n",
       "    <tr>\n",
       "      <th>30</th>\n",
       "      <td>Yellow Cab</td>\n",
       "      <td>PHOENIX AZ</td>\n",
       "      <td>1200</td>\n",
       "    </tr>\n",
       "    <tr>\n",
       "      <th>31</th>\n",
       "      <td>Yellow Cab</td>\n",
       "      <td>PITTSBURGH PA</td>\n",
       "      <td>631</td>\n",
       "    </tr>\n",
       "    <tr>\n",
       "      <th>32</th>\n",
       "      <td>Yellow Cab</td>\n",
       "      <td>SACRAMENTO CA</td>\n",
       "      <td>1033</td>\n",
       "    </tr>\n",
       "    <tr>\n",
       "      <th>33</th>\n",
       "      <td>Yellow Cab</td>\n",
       "      <td>SAN DIEGO CA</td>\n",
       "      <td>9816</td>\n",
       "    </tr>\n",
       "    <tr>\n",
       "      <th>34</th>\n",
       "      <td>Yellow Cab</td>\n",
       "      <td>SEATTLE WA</td>\n",
       "      <td>5265</td>\n",
       "    </tr>\n",
       "    <tr>\n",
       "      <th>35</th>\n",
       "      <td>Yellow Cab</td>\n",
       "      <td>SILICON VALLEY</td>\n",
       "      <td>4722</td>\n",
       "    </tr>\n",
       "    <tr>\n",
       "      <th>36</th>\n",
       "      <td>Yellow Cab</td>\n",
       "      <td>TUCSON AZ</td>\n",
       "      <td>1132</td>\n",
       "    </tr>\n",
       "    <tr>\n",
       "      <th>37</th>\n",
       "      <td>Yellow Cab</td>\n",
       "      <td>WASHINGTON DC</td>\n",
       "      <td>40045</td>\n",
       "    </tr>\n",
       "  </tbody>\n",
       "</table>\n",
       "</div>"
      ],
      "text/plain": [
       "       Company            City  total\n",
       "0     Pink Cab      ATLANTA GA   1762\n",
       "1     Pink Cab       AUSTIN TX   1868\n",
       "2     Pink Cab       BOSTON MA   5186\n",
       "3     Pink Cab      CHICAGO IL   9361\n",
       "4     Pink Cab       DALLAS TX   1380\n",
       "5     Pink Cab       DENVER CO   1394\n",
       "6     Pink Cab  LOS ANGELES CA  19865\n",
       "7     Pink Cab        MIAMI FL   2002\n",
       "8     Pink Cab    NASHVILLE TN   1841\n",
       "9     Pink Cab     NEW YORK NY  13967\n",
       "10    Pink Cab   ORANGE COUNTY   1513\n",
       "11    Pink Cab      PHOENIX AZ    864\n",
       "12    Pink Cab   PITTSBURGH PA    682\n",
       "13    Pink Cab   SACRAMENTO CA   1334\n",
       "14    Pink Cab    SAN DIEGO CA  10672\n",
       "15    Pink Cab      SEATTLE WA   2732\n",
       "16    Pink Cab  SILICON VALLEY   3797\n",
       "17    Pink Cab       TUCSON AZ    799\n",
       "18    Pink Cab   WASHINGTON DC   3692\n",
       "19  Yellow Cab      ATLANTA GA   5795\n",
       "20  Yellow Cab       AUSTIN TX   3028\n",
       "21  Yellow Cab       BOSTON MA  24506\n",
       "22  Yellow Cab      CHICAGO IL  47264\n",
       "23  Yellow Cab       DALLAS TX   5637\n",
       "24  Yellow Cab       DENVER CO   2431\n",
       "25  Yellow Cab  LOS ANGELES CA  28168\n",
       "26  Yellow Cab        MIAMI FL   4452\n",
       "27  Yellow Cab    NASHVILLE TN   1169\n",
       "28  Yellow Cab     NEW YORK NY  85918\n",
       "29  Yellow Cab   ORANGE COUNTY   2469\n",
       "30  Yellow Cab      PHOENIX AZ   1200\n",
       "31  Yellow Cab   PITTSBURGH PA    631\n",
       "32  Yellow Cab   SACRAMENTO CA   1033\n",
       "33  Yellow Cab    SAN DIEGO CA   9816\n",
       "34  Yellow Cab      SEATTLE WA   5265\n",
       "35  Yellow Cab  SILICON VALLEY   4722\n",
       "36  Yellow Cab       TUCSON AZ   1132\n",
       "37  Yellow Cab   WASHINGTON DC  40045"
      ]
     },
     "execution_count": 52,
     "metadata": {},
     "output_type": "execute_result"
    }
   ],
   "source": [
    "temp"
   ]
  },
  {
   "cell_type": "code",
   "execution_count": 53,
   "metadata": {},
   "outputs": [
    {
     "data": {
      "image/png": "[encoded data removed]",
      "text/plain": [
       "<Figure size 1080x432 with 1 Axes>"
      ]
     },
     "metadata": {
      "needs_background": "light"
     },
     "output_type": "display_data"
    }
   ],
   "source": [
    "plt.figure(figsize=(15,6));\n",
    "sns.barplot(data=temp, y='City', x='total', hue='Company', dodge=True);"
   ]
  },
  {
   "cell_type": "code",
   "execution_count": 54,
   "metadata": {},
   "outputs": [
    {
     "data": {
      "text/plain": [
       "Company\n",
       "Pink Cab      10638923388\n",
       "Yellow Cab    46276399954\n",
       "Name: Users, dtype: int64"
      ]
     },
     "execution_count": 54,
     "metadata": {},
     "output_type": "execute_result"
    }
   ],
   "source": [
    "df.groupby('Company')['Users'].sum()"
   ]
  },
  {
   "cell_type": "code",
   "execution_count": 55,
   "metadata": {},
   "outputs": [
    {
     "data": {
      "text/html": [
       "<div>\n",
       "<style scoped>\n",
       "    .dataframe tbody tr th:only-of-type {\n",
       "        vertical-align: middle;\n",
       "    }\n",
       "\n",
       "    .dataframe tbody tr th {\n",
       "        vertical-align: top;\n",
       "    }\n",
       "\n",
       "    .dataframe thead th {\n",
       "        text-align: right;\n",
       "    }\n",
       "</style>\n",
       "<table border=\"1\" class=\"dataframe\">\n",
       "  <thead>\n",
       "    <tr style=\"text-align: right;\">\n",
       "      <th></th>\n",
       "      <th>Users</th>\n",
       "    </tr>\n",
       "    <tr>\n",
       "      <th>Company</th>\n",
       "      <th></th>\n",
       "    </tr>\n",
       "  </thead>\n",
       "  <tbody>\n",
       "    <tr>\n",
       "      <th>Yellow Cab</th>\n",
       "      <td>81.307453</td>\n",
       "    </tr>\n",
       "    <tr>\n",
       "      <th>Pink Cab</th>\n",
       "      <td>18.692547</td>\n",
       "    </tr>\n",
       "  </tbody>\n",
       "</table>\n",
       "</div>"
      ],
      "text/plain": [
       "                Users\n",
       "Company              \n",
       "Yellow Cab  81.307453\n",
       "Pink Cab    18.692547"
      ]
     },
     "execution_count": 55,
     "metadata": {},
     "output_type": "execute_result"
    }
   ],
   "source": [
    "df.groupby([\"Company\"])\\\n",
    ".agg({\"Users\" : \"sum\"})[[\"Users\"]]\\\n",
    ".apply(lambda x: 100*x/x.sum())\\\n",
    ".sort_values(by=\"Users\", ascending=False)"
   ]
  },
  {
   "cell_type": "markdown",
   "metadata": {},
   "source": [
    "Age and Company:"
   ]
  },
  {
   "cell_type": "code",
   "execution_count": 56,
   "metadata": {},
   "outputs": [
    {
     "data": {
      "text/plain": [
       "array([28, 27, 53, 23, 33, 25, 32, 39, 35, 24, 61, 46, 40, 20, 19, 62, 36,\n",
       "       50, 65, 59, 34, 18, 38, 58, 47, 42, 26, 37, 56, 22, 21, 29, 30, 63,\n",
       "       48, 55, 51, 60, 31, 41, 52, 45, 64, 44, 43, 54, 49, 57],\n",
       "      dtype=int64)"
      ]
     },
     "execution_count": 56,
     "metadata": {},
     "output_type": "execute_result"
    }
   ],
   "source": [
    "df['Age'].unique()"
   ]
  },
  {
   "cell_type": "markdown",
   "metadata": {},
   "source": [
    "Defining Age Categories:"
   ]
  },
  {
   "cell_type": "code",
   "execution_count": 57,
   "metadata": {},
   "outputs": [],
   "source": [
    "df['AgeCat']=''\n",
    "df.loc[ df['Age'] <= 20, 'AgeCat'] = '0-20'\n",
    "df.loc[(df['Age'] > 20) & (df['Age'] <= 40), 'AgeCat'] = '21-40'\n",
    "df.loc[(df['Age'] > 40) & (df['Age'] <= 60), 'AgeCat'] = '41-60'\n",
    "df.loc[ df['Age'] > 60, 'AgeCat']= '60+'"
   ]
  },
  {
   "cell_type": "code",
   "execution_count": 58,
   "metadata": {},
   "outputs": [
    {
     "data": {
      "text/html": [
       "<div>\n",
       "<style scoped>\n",
       "    .dataframe tbody tr th:only-of-type {\n",
       "        vertical-align: middle;\n",
       "    }\n",
       "\n",
       "    .dataframe tbody tr th {\n",
       "        vertical-align: top;\n",
       "    }\n",
       "\n",
       "    .dataframe thead th {\n",
       "        text-align: right;\n",
       "    }\n",
       "</style>\n",
       "<table border=\"1\" class=\"dataframe\">\n",
       "  <thead>\n",
       "    <tr style=\"text-align: right;\">\n",
       "      <th></th>\n",
       "      <th>Transaction ID</th>\n",
       "      <th>Date of Travel</th>\n",
       "      <th>Company</th>\n",
       "      <th>City</th>\n",
       "      <th>KM Travelled</th>\n",
       "      <th>Price Charged</th>\n",
       "      <th>Cost of Trip</th>\n",
       "      <th>Customer ID</th>\n",
       "      <th>Payment_Mode</th>\n",
       "      <th>Gender</th>\n",
       "      <th>Age</th>\n",
       "      <th>Income (USD/Month)</th>\n",
       "      <th>Population</th>\n",
       "      <th>Users</th>\n",
       "      <th>Profit</th>\n",
       "      <th>AgeCat</th>\n",
       "    </tr>\n",
       "  </thead>\n",
       "  <tbody>\n",
       "    <tr>\n",
       "      <th>0</th>\n",
       "      <td>10000011</td>\n",
       "      <td>2016-01-08</td>\n",
       "      <td>Pink Cab</td>\n",
       "      <td>ATLANTA GA</td>\n",
       "      <td>30.45</td>\n",
       "      <td>370.95</td>\n",
       "      <td>313.6350</td>\n",
       "      <td>29290</td>\n",
       "      <td>Card</td>\n",
       "      <td>Male</td>\n",
       "      <td>28</td>\n",
       "      <td>10813</td>\n",
       "      <td>814885</td>\n",
       "      <td>24701</td>\n",
       "      <td>57.3150</td>\n",
       "      <td>21-40</td>\n",
       "    </tr>\n",
       "    <tr>\n",
       "      <th>1</th>\n",
       "      <td>10351127</td>\n",
       "      <td>2018-07-21</td>\n",
       "      <td>Yellow Cab</td>\n",
       "      <td>ATLANTA GA</td>\n",
       "      <td>26.19</td>\n",
       "      <td>598.70</td>\n",
       "      <td>317.4228</td>\n",
       "      <td>29290</td>\n",
       "      <td>Cash</td>\n",
       "      <td>Male</td>\n",
       "      <td>28</td>\n",
       "      <td>10813</td>\n",
       "      <td>814885</td>\n",
       "      <td>24701</td>\n",
       "      <td>281.2772</td>\n",
       "      <td>21-40</td>\n",
       "    </tr>\n",
       "    <tr>\n",
       "      <th>2</th>\n",
       "      <td>10412921</td>\n",
       "      <td>2018-11-23</td>\n",
       "      <td>Yellow Cab</td>\n",
       "      <td>ATLANTA GA</td>\n",
       "      <td>42.55</td>\n",
       "      <td>792.05</td>\n",
       "      <td>597.4020</td>\n",
       "      <td>29290</td>\n",
       "      <td>Card</td>\n",
       "      <td>Male</td>\n",
       "      <td>28</td>\n",
       "      <td>10813</td>\n",
       "      <td>814885</td>\n",
       "      <td>24701</td>\n",
       "      <td>194.6480</td>\n",
       "      <td>21-40</td>\n",
       "    </tr>\n",
       "    <tr>\n",
       "      <th>3</th>\n",
       "      <td>10000012</td>\n",
       "      <td>2016-01-06</td>\n",
       "      <td>Pink Cab</td>\n",
       "      <td>ATLANTA GA</td>\n",
       "      <td>28.62</td>\n",
       "      <td>358.52</td>\n",
       "      <td>334.8540</td>\n",
       "      <td>27703</td>\n",
       "      <td>Card</td>\n",
       "      <td>Male</td>\n",
       "      <td>27</td>\n",
       "      <td>9237</td>\n",
       "      <td>814885</td>\n",
       "      <td>24701</td>\n",
       "      <td>23.6660</td>\n",
       "      <td>21-40</td>\n",
       "    </tr>\n",
       "    <tr>\n",
       "      <th>4</th>\n",
       "      <td>10320494</td>\n",
       "      <td>2018-04-21</td>\n",
       "      <td>Yellow Cab</td>\n",
       "      <td>ATLANTA GA</td>\n",
       "      <td>36.38</td>\n",
       "      <td>721.10</td>\n",
       "      <td>467.1192</td>\n",
       "      <td>27703</td>\n",
       "      <td>Card</td>\n",
       "      <td>Male</td>\n",
       "      <td>27</td>\n",
       "      <td>9237</td>\n",
       "      <td>814885</td>\n",
       "      <td>24701</td>\n",
       "      <td>253.9808</td>\n",
       "      <td>21-40</td>\n",
       "    </tr>\n",
       "  </tbody>\n",
       "</table>\n",
       "</div>"
      ],
      "text/plain": [
       "  Transaction ID Date of Travel     Company        City  KM Travelled  \\\n",
       "0       10000011     2016-01-08    Pink Cab  ATLANTA GA         30.45   \n",
       "1       10351127     2018-07-21  Yellow Cab  ATLANTA GA         26.19   \n",
       "2       10412921     2018-11-23  Yellow Cab  ATLANTA GA         42.55   \n",
       "3       10000012     2016-01-06    Pink Cab  ATLANTA GA         28.62   \n",
       "4       10320494     2018-04-21  Yellow Cab  ATLANTA GA         36.38   \n",
       "\n",
       "   Price Charged  Cost of Trip Customer ID Payment_Mode Gender  Age  \\\n",
       "0         370.95      313.6350       29290         Card   Male   28   \n",
       "1         598.70      317.4228       29290         Cash   Male   28   \n",
       "2         792.05      597.4020       29290         Card   Male   28   \n",
       "3         358.52      334.8540       27703         Card   Male   27   \n",
       "4         721.10      467.1192       27703         Card   Male   27   \n",
       "\n",
       "   Income (USD/Month)  Population  Users    Profit AgeCat  \n",
       "0               10813      814885  24701   57.3150  21-40  \n",
       "1               10813      814885  24701  281.2772  21-40  \n",
       "2               10813      814885  24701  194.6480  21-40  \n",
       "3                9237      814885  24701   23.6660  21-40  \n",
       "4                9237      814885  24701  253.9808  21-40  "
      ]
     },
     "execution_count": 58,
     "metadata": {},
     "output_type": "execute_result"
    }
   ],
   "source": [
    "df.head()"
   ]
  },
  {
   "cell_type": "code",
   "execution_count": 59,
   "metadata": {},
   "outputs": [],
   "source": [
    "age_cab=df.groupby(['Company','AgeCat']).count()['Users']"
   ]
  },
  {
   "cell_type": "code",
   "execution_count": 60,
   "metadata": {},
   "outputs": [
    {
     "data": {
      "text/plain": [
       "Company     AgeCat\n",
       "Pink Cab    0-20        8350\n",
       "            21-40      53759\n",
       "            41-60      18016\n",
       "            60+         4586\n",
       "Yellow Cab  0-20       26316\n",
       "            21-40     174713\n",
       "            41-60      59327\n",
       "            60+        14325\n",
       "Name: Users, dtype: int64"
      ]
     },
     "execution_count": 60,
     "metadata": {},
     "output_type": "execute_result"
    }
   ],
   "source": [
    "age_cab"
   ]
  },
  {
   "cell_type": "code",
   "execution_count": 61,
   "metadata": {},
   "outputs": [
    {
     "data": {
      "text/plain": [
       "<matplotlib.axes._subplots.AxesSubplot at 0x1e85ed50>"
      ]
     },
     "execution_count": 61,
     "metadata": {},
     "output_type": "execute_result"
    },
    {
     "data": {
      "image/png": "[encoded data removed]",
      "text/plain": [
       "<Figure size 432x288 with 1 Axes>"
      ]
     },
     "metadata": {
      "needs_background": "light"
     },
     "output_type": "display_data"
    }
   ],
   "source": [
    "df.groupby(['Company','AgeCat']).count()['Users'].plot(kind='bar',stacked=False)"
   ]
  },
  {
   "cell_type": "code",
   "execution_count": 62,
   "metadata": {},
   "outputs": [
    {
     "data": {
      "text/plain": [
       "<matplotlib.axes._subplots.AxesSubplot at 0x12b6b50>"
      ]
     },
     "execution_count": 62,
     "metadata": {},
     "output_type": "execute_result"
    },
    {
     "data": {
      "image/png": "[encoded data removed]",
      "text/plain": [
       "<Figure size 432x288 with 1 Axes>"
      ]
     },
     "metadata": {
      "needs_background": "light"
     },
     "output_type": "display_data"
    }
   ],
   "source": [
    "df.groupby([\"AgeCat\",\"Company\"])\\\n",
    ".agg({\"Users\" : \"sum\"})[[\"Users\"]]\\\n",
    ".apply(lambda x: 100*x/x.sum())\\\n",
    ".sort_values(by=\"Users\", ascending=False).plot(kind='bar')"
   ]
  },
  {
   "cell_type": "code",
   "execution_count": 63,
   "metadata": {},
   "outputs": [
    {
     "data": {
      "text/plain": [
       "<matplotlib.axes._subplots.AxesSubplot at 0x12c1f10>"
      ]
     },
     "execution_count": 63,
     "metadata": {},
     "output_type": "execute_result"
    },
    {
     "data": {
      "image/png": "[encoded data removed]",
      "text/plain": [
       "<Figure size 432x288 with 1 Axes>"
      ]
     },
     "metadata": {
      "needs_background": "light"
     },
     "output_type": "display_data"
    }
   ],
   "source": [
    "df.groupby([\"AgeCat\"])\\\n",
    ".agg({\"Users\" : \"sum\"})[[\"Users\"]]\\\n",
    ".apply(lambda x: 100*x/x.sum())\\\n",
    ".sort_values(by=\"Users\", ascending=False).plot(kind='bar')"
   ]
  },
  {
   "cell_type": "code",
   "execution_count": 64,
   "metadata": {},
   "outputs": [
    {
     "data": {
      "text/plain": [
       "Company     AgeCat  City          \n",
       "Pink Cab    0-20    ATLANTA GA         195\n",
       "                    AUSTIN TX          195\n",
       "                    BOSTON MA          435\n",
       "                    CHICAGO IL         956\n",
       "                    DALLAS TX          122\n",
       "                                      ... \n",
       "Yellow Cab  60+     SAN DIEGO CA       495\n",
       "                    SEATTLE WA         275\n",
       "                    SILICON VALLEY     213\n",
       "                    TUCSON AZ           62\n",
       "                    WASHINGTON DC     2004\n",
       "Name: Users, Length: 152, dtype: int64"
      ]
     },
     "execution_count": 64,
     "metadata": {},
     "output_type": "execute_result"
    }
   ],
   "source": [
    "df.groupby(['Company', 'AgeCat','City']).count()['Users']"
   ]
  },
  {
   "cell_type": "code",
   "execution_count": null,
   "metadata": {},
   "outputs": [],
   "source": []
  },
  {
   "cell_type": "markdown",
   "metadata": {},
   "source": [
    "# Time Analysis:"
   ]
  },
  {
   "cell_type": "code",
   "execution_count": 65,
   "metadata": {},
   "outputs": [
    {
     "data": {
      "text/html": [
       "<div>\n",
       "<style scoped>\n",
       "    .dataframe tbody tr th:only-of-type {\n",
       "        vertical-align: middle;\n",
       "    }\n",
       "\n",
       "    .dataframe tbody tr th {\n",
       "        vertical-align: top;\n",
       "    }\n",
       "\n",
       "    .dataframe thead th {\n",
       "        text-align: right;\n",
       "    }\n",
       "</style>\n",
       "<table border=\"1\" class=\"dataframe\">\n",
       "  <thead>\n",
       "    <tr style=\"text-align: right;\">\n",
       "      <th></th>\n",
       "      <th>Transaction ID</th>\n",
       "      <th>Date of Travel</th>\n",
       "      <th>Company</th>\n",
       "      <th>City</th>\n",
       "      <th>KM Travelled</th>\n",
       "      <th>Price Charged</th>\n",
       "      <th>Cost of Trip</th>\n",
       "      <th>Customer ID</th>\n",
       "      <th>Payment_Mode</th>\n",
       "      <th>Gender</th>\n",
       "      <th>Age</th>\n",
       "      <th>Income (USD/Month)</th>\n",
       "      <th>Population</th>\n",
       "      <th>Users</th>\n",
       "      <th>Profit</th>\n",
       "      <th>AgeCat</th>\n",
       "      <th>months</th>\n",
       "      <th>day</th>\n",
       "      <th>year</th>\n",
       "    </tr>\n",
       "  </thead>\n",
       "  <tbody>\n",
       "    <tr>\n",
       "      <th>0</th>\n",
       "      <td>10000011</td>\n",
       "      <td>2016-01-08</td>\n",
       "      <td>Pink Cab</td>\n",
       "      <td>ATLANTA GA</td>\n",
       "      <td>30.45</td>\n",
       "      <td>370.95</td>\n",
       "      <td>313.6350</td>\n",
       "      <td>29290</td>\n",
       "      <td>Card</td>\n",
       "      <td>Male</td>\n",
       "      <td>28</td>\n",
       "      <td>10813</td>\n",
       "      <td>814885</td>\n",
       "      <td>24701</td>\n",
       "      <td>57.3150</td>\n",
       "      <td>21-40</td>\n",
       "      <td>1</td>\n",
       "      <td>8</td>\n",
       "      <td>2016</td>\n",
       "    </tr>\n",
       "    <tr>\n",
       "      <th>1</th>\n",
       "      <td>10351127</td>\n",
       "      <td>2018-07-21</td>\n",
       "      <td>Yellow Cab</td>\n",
       "      <td>ATLANTA GA</td>\n",
       "      <td>26.19</td>\n",
       "      <td>598.70</td>\n",
       "      <td>317.4228</td>\n",
       "      <td>29290</td>\n",
       "      <td>Cash</td>\n",
       "      <td>Male</td>\n",
       "      <td>28</td>\n",
       "      <td>10813</td>\n",
       "      <td>814885</td>\n",
       "      <td>24701</td>\n",
       "      <td>281.2772</td>\n",
       "      <td>21-40</td>\n",
       "      <td>7</td>\n",
       "      <td>21</td>\n",
       "      <td>2018</td>\n",
       "    </tr>\n",
       "    <tr>\n",
       "      <th>2</th>\n",
       "      <td>10412921</td>\n",
       "      <td>2018-11-23</td>\n",
       "      <td>Yellow Cab</td>\n",
       "      <td>ATLANTA GA</td>\n",
       "      <td>42.55</td>\n",
       "      <td>792.05</td>\n",
       "      <td>597.4020</td>\n",
       "      <td>29290</td>\n",
       "      <td>Card</td>\n",
       "      <td>Male</td>\n",
       "      <td>28</td>\n",
       "      <td>10813</td>\n",
       "      <td>814885</td>\n",
       "      <td>24701</td>\n",
       "      <td>194.6480</td>\n",
       "      <td>21-40</td>\n",
       "      <td>11</td>\n",
       "      <td>23</td>\n",
       "      <td>2018</td>\n",
       "    </tr>\n",
       "    <tr>\n",
       "      <th>3</th>\n",
       "      <td>10000012</td>\n",
       "      <td>2016-01-06</td>\n",
       "      <td>Pink Cab</td>\n",
       "      <td>ATLANTA GA</td>\n",
       "      <td>28.62</td>\n",
       "      <td>358.52</td>\n",
       "      <td>334.8540</td>\n",
       "      <td>27703</td>\n",
       "      <td>Card</td>\n",
       "      <td>Male</td>\n",
       "      <td>27</td>\n",
       "      <td>9237</td>\n",
       "      <td>814885</td>\n",
       "      <td>24701</td>\n",
       "      <td>23.6660</td>\n",
       "      <td>21-40</td>\n",
       "      <td>1</td>\n",
       "      <td>6</td>\n",
       "      <td>2016</td>\n",
       "    </tr>\n",
       "    <tr>\n",
       "      <th>4</th>\n",
       "      <td>10320494</td>\n",
       "      <td>2018-04-21</td>\n",
       "      <td>Yellow Cab</td>\n",
       "      <td>ATLANTA GA</td>\n",
       "      <td>36.38</td>\n",
       "      <td>721.10</td>\n",
       "      <td>467.1192</td>\n",
       "      <td>27703</td>\n",
       "      <td>Card</td>\n",
       "      <td>Male</td>\n",
       "      <td>27</td>\n",
       "      <td>9237</td>\n",
       "      <td>814885</td>\n",
       "      <td>24701</td>\n",
       "      <td>253.9808</td>\n",
       "      <td>21-40</td>\n",
       "      <td>4</td>\n",
       "      <td>21</td>\n",
       "      <td>2018</td>\n",
       "    </tr>\n",
       "  </tbody>\n",
       "</table>\n",
       "</div>"
      ],
      "text/plain": [
       "  Transaction ID Date of Travel     Company        City  KM Travelled  \\\n",
       "0       10000011     2016-01-08    Pink Cab  ATLANTA GA         30.45   \n",
       "1       10351127     2018-07-21  Yellow Cab  ATLANTA GA         26.19   \n",
       "2       10412921     2018-11-23  Yellow Cab  ATLANTA GA         42.55   \n",
       "3       10000012     2016-01-06    Pink Cab  ATLANTA GA         28.62   \n",
       "4       10320494     2018-04-21  Yellow Cab  ATLANTA GA         36.38   \n",
       "\n",
       "   Price Charged  Cost of Trip Customer ID Payment_Mode Gender  Age  \\\n",
       "0         370.95      313.6350       29290         Card   Male   28   \n",
       "1         598.70      317.4228       29290         Cash   Male   28   \n",
       "2         792.05      597.4020       29290         Card   Male   28   \n",
       "3         358.52      334.8540       27703         Card   Male   27   \n",
       "4         721.10      467.1192       27703         Card   Male   27   \n",
       "\n",
       "   Income (USD/Month)  Population  Users    Profit AgeCat  months  day  year  \n",
       "0               10813      814885  24701   57.3150  21-40       1    8  2016  \n",
       "1               10813      814885  24701  281.2772  21-40       7   21  2018  \n",
       "2               10813      814885  24701  194.6480  21-40      11   23  2018  \n",
       "3                9237      814885  24701   23.6660  21-40       1    6  2016  \n",
       "4                9237      814885  24701  253.9808  21-40       4   21  2018  "
      ]
     },
     "execution_count": 65,
     "metadata": {},
     "output_type": "execute_result"
    }
   ],
   "source": [
    "df['months'] = pd.DatetimeIndex(df['Date of Travel']).month\n",
    "df['day'] = pd.DatetimeIndex(df['Date of Travel']).day\n",
    "df['year'] = pd.DatetimeIndex(df['Date of Travel']).year\n",
    "df.head()"
   ]
  },
  {
   "cell_type": "code",
   "execution_count": 66,
   "metadata": {},
   "outputs": [],
   "source": [
    "years = df['year'].unique()"
   ]
  },
  {
   "cell_type": "code",
   "execution_count": 67,
   "metadata": {},
   "outputs": [
    {
     "data": {
      "text/plain": [
       "<matplotlib.axes._subplots.AxesSubplot at 0x19393e70>"
      ]
     },
     "execution_count": 67,
     "metadata": {},
     "output_type": "execute_result"
    },
    {
     "data": {
      "image/png": "[encoded data removed]",
      "text/plain": [
       "<Figure size 1600x560 with 2 Axes>"
      ]
     },
     "metadata": {
      "needs_background": "light"
     },
     "output_type": "display_data"
    }
   ],
   "source": [
    "fig, axes = plt.subplots(1, 2, figsize=(20,7), dpi= 80)\n",
    "sns.boxplot(x='year', y='Profit', data=df, ax=axes[0])\n",
    "sns.boxplot(x='months', y='Profit', data=df.loc[~df.year.isin([2016, 2018]), :])"
   ]
  },
  {
   "cell_type": "code",
   "execution_count": 68,
   "metadata": {},
   "outputs": [
    {
     "data": {
      "text/plain": [
       "<matplotlib.axes._subplots.AxesSubplot at 0x1937be30>"
      ]
     },
     "execution_count": 68,
     "metadata": {},
     "output_type": "execute_result"
    },
    {
     "data": {
      "image/png": "[encoded data removed]",
      "text/plain": [
       "<Figure size 1600x560 with 2 Axes>"
      ]
     },
     "metadata": {
      "needs_background": "light"
     },
     "output_type": "display_data"
    }
   ],
   "source": [
    "fig, axes = plt.subplots(1, 2, figsize=(20,7), dpi= 80)\n",
    "sns.boxplot(x='year', y='Users', data=df, ax=axes[0])\n",
    "sns.boxplot(x='months', y='Users', data=df.loc[~df.year.isin([2016, 2018]), :])"
   ]
  },
  {
   "cell_type": "code",
   "execution_count": 69,
   "metadata": {},
   "outputs": [
    {
     "data": {
      "text/plain": [
       "<matplotlib.axes._subplots.AxesSubplot at 0x1bee7a30>"
      ]
     },
     "execution_count": 69,
     "metadata": {},
     "output_type": "execute_result"
    },
    {
     "data": {
      "image/png": "[encoded data removed]",
      "text/plain": [
       "<Figure size 1600x560 with 1 Axes>"
      ]
     },
     "metadata": {
      "needs_background": "light"
     },
     "output_type": "display_data"
    }
   ],
   "source": [
    "fig, axes = plt.subplots(1, 1, figsize=(20,7), dpi= 80)\n",
    "sns.boxplot(x='months', y='Company', data=df.loc[~df.year.isin([2016, 2018]), :])"
   ]
  },
  {
   "cell_type": "code",
   "execution_count": 70,
   "metadata": {},
   "outputs": [],
   "source": [
    "w=df.groupby(['year','Users'])['Profit'].mean()"
   ]
  },
  {
   "cell_type": "code",
   "execution_count": 71,
   "metadata": {},
   "outputs": [
    {
     "data": {
      "image/png": "[encoded data removed]",
      "text/plain": [
       "<Figure size 1080x432 with 1 Axes>"
      ]
     },
     "metadata": {
      "needs_background": "light"
     },
     "output_type": "display_data"
    }
   ],
   "source": [
    "w.plot(figsize=(15, 6))\n",
    "plt.show()"
   ]
  },
  {
   "cell_type": "code",
   "execution_count": 72,
   "metadata": {},
   "outputs": [],
   "source": [
    "z=df.groupby(['year','Company'])['Profit'].mean()"
   ]
  },
  {
   "cell_type": "code",
   "execution_count": 73,
   "metadata": {},
   "outputs": [
    {
     "data": {
      "image/png": "[encoded data removed]",
      "text/plain": [
       "<Figure size 432x288 with 1 Axes>"
      ]
     },
     "metadata": {
      "needs_background": "light"
     },
     "output_type": "display_data"
    }
   ],
   "source": [
    "z.plot(kind='bar')\n",
    "plt.show()"
   ]
  },
  {
   "cell_type": "markdown",
   "metadata": {},
   "source": [
    "# Feature Selection"
   ]
  },
  {
   "cell_type": "code",
   "execution_count": 74,
   "metadata": {},
   "outputs": [],
   "source": [
    "from sklearn.preprocessing import LabelEncoder\n",
    "import sklearn.preprocessing as preprocessing "
   ]
  },
  {
   "cell_type": "code",
   "execution_count": 75,
   "metadata": {},
   "outputs": [
    {
     "data": {
      "text/html": [
       "<div>\n",
       "<style scoped>\n",
       "    .dataframe tbody tr th:only-of-type {\n",
       "        vertical-align: middle;\n",
       "    }\n",
       "\n",
       "    .dataframe tbody tr th {\n",
       "        vertical-align: top;\n",
       "    }\n",
       "\n",
       "    .dataframe thead th {\n",
       "        text-align: right;\n",
       "    }\n",
       "</style>\n",
       "<table border=\"1\" class=\"dataframe\">\n",
       "  <thead>\n",
       "    <tr style=\"text-align: right;\">\n",
       "      <th></th>\n",
       "      <th>Company</th>\n",
       "      <th>City</th>\n",
       "      <th>KM Travelled</th>\n",
       "      <th>Price Charged</th>\n",
       "      <th>Cost of Trip</th>\n",
       "      <th>Payment_Mode</th>\n",
       "      <th>Gender</th>\n",
       "      <th>Age</th>\n",
       "      <th>Income (USD/Month)</th>\n",
       "      <th>Population</th>\n",
       "      <th>Users</th>\n",
       "      <th>Profit</th>\n",
       "      <th>AgeCat</th>\n",
       "      <th>months</th>\n",
       "      <th>day</th>\n",
       "      <th>year</th>\n",
       "    </tr>\n",
       "  </thead>\n",
       "  <tbody>\n",
       "    <tr>\n",
       "      <th>Company</th>\n",
       "      <td>1.000000</td>\n",
       "      <td>0.002109</td>\n",
       "      <td>0.000333</td>\n",
       "      <td>0.227986</td>\n",
       "      <td>0.133713</td>\n",
       "      <td>-0.001026</td>\n",
       "      <td>0.017279</td>\n",
       "      <td>0.000630</td>\n",
       "      <td>-0.000712</td>\n",
       "      <td>0.130920</td>\n",
       "      <td>0.180476</td>\n",
       "      <td>0.258426</td>\n",
       "      <td>0.001299</td>\n",
       "      <td>-0.049657</td>\n",
       "      <td>0.000302</td>\n",
       "      <td>-0.003287</td>\n",
       "    </tr>\n",
       "    <tr>\n",
       "      <th>City</th>\n",
       "      <td>0.002109</td>\n",
       "      <td>1.000000</td>\n",
       "      <td>0.000471</td>\n",
       "      <td>0.037286</td>\n",
       "      <td>0.000776</td>\n",
       "      <td>-0.000885</td>\n",
       "      <td>-0.011733</td>\n",
       "      <td>-0.008872</td>\n",
       "      <td>-0.008725</td>\n",
       "      <td>0.000379</td>\n",
       "      <td>-0.005128</td>\n",
       "      <td>0.063052</td>\n",
       "      <td>-0.010180</td>\n",
       "      <td>-0.005623</td>\n",
       "      <td>0.001420</td>\n",
       "      <td>-0.000830</td>\n",
       "    </tr>\n",
       "    <tr>\n",
       "      <th>KM Travelled</th>\n",
       "      <td>0.000333</td>\n",
       "      <td>0.000471</td>\n",
       "      <td>1.000000</td>\n",
       "      <td>0.835753</td>\n",
       "      <td>0.981848</td>\n",
       "      <td>-0.000766</td>\n",
       "      <td>-0.001350</td>\n",
       "      <td>-0.000369</td>\n",
       "      <td>-0.000544</td>\n",
       "      <td>-0.002311</td>\n",
       "      <td>-0.000428</td>\n",
       "      <td>0.462768</td>\n",
       "      <td>-0.000130</td>\n",
       "      <td>-0.001903</td>\n",
       "      <td>0.001652</td>\n",
       "      <td>-0.001072</td>\n",
       "    </tr>\n",
       "    <tr>\n",
       "      <th>Price Charged</th>\n",
       "      <td>0.227986</td>\n",
       "      <td>0.037286</td>\n",
       "      <td>0.835753</td>\n",
       "      <td>1.000000</td>\n",
       "      <td>0.859812</td>\n",
       "      <td>0.000226</td>\n",
       "      <td>0.012661</td>\n",
       "      <td>-0.003084</td>\n",
       "      <td>0.003228</td>\n",
       "      <td>0.326589</td>\n",
       "      <td>0.281061</td>\n",
       "      <td>0.864154</td>\n",
       "      <td>-0.001446</td>\n",
       "      <td>-0.061116</td>\n",
       "      <td>-0.004021</td>\n",
       "      <td>-0.036409</td>\n",
       "    </tr>\n",
       "    <tr>\n",
       "      <th>Cost of Trip</th>\n",
       "      <td>0.133713</td>\n",
       "      <td>0.000776</td>\n",
       "      <td>0.981848</td>\n",
       "      <td>0.859812</td>\n",
       "      <td>1.000000</td>\n",
       "      <td>-0.000898</td>\n",
       "      <td>0.000495</td>\n",
       "      <td>-0.000189</td>\n",
       "      <td>-0.000633</td>\n",
       "      <td>0.015108</td>\n",
       "      <td>0.023628</td>\n",
       "      <td>0.486056</td>\n",
       "      <td>0.000214</td>\n",
       "      <td>-0.008370</td>\n",
       "      <td>0.002091</td>\n",
       "      <td>-0.001773</td>\n",
       "    </tr>\n",
       "    <tr>\n",
       "      <th>Payment_Mode</th>\n",
       "      <td>-0.001026</td>\n",
       "      <td>-0.000885</td>\n",
       "      <td>-0.000766</td>\n",
       "      <td>0.000226</td>\n",
       "      <td>-0.000898</td>\n",
       "      <td>1.000000</td>\n",
       "      <td>-0.000080</td>\n",
       "      <td>-0.001118</td>\n",
       "      <td>-0.000866</td>\n",
       "      <td>0.001544</td>\n",
       "      <td>0.001709</td>\n",
       "      <td>0.001273</td>\n",
       "      <td>0.000595</td>\n",
       "      <td>-0.001862</td>\n",
       "      <td>-0.000087</td>\n",
       "      <td>-0.000870</td>\n",
       "    </tr>\n",
       "    <tr>\n",
       "      <th>Gender</th>\n",
       "      <td>0.017279</td>\n",
       "      <td>-0.011733</td>\n",
       "      <td>-0.001350</td>\n",
       "      <td>0.012661</td>\n",
       "      <td>0.000495</td>\n",
       "      <td>-0.000080</td>\n",
       "      <td>1.000000</td>\n",
       "      <td>0.003366</td>\n",
       "      <td>-0.000991</td>\n",
       "      <td>0.043593</td>\n",
       "      <td>0.060886</td>\n",
       "      <td>0.021182</td>\n",
       "      <td>-0.000659</td>\n",
       "      <td>-0.014972</td>\n",
       "      <td>-0.000459</td>\n",
       "      <td>-0.012758</td>\n",
       "    </tr>\n",
       "    <tr>\n",
       "      <th>Age</th>\n",
       "      <td>0.000630</td>\n",
       "      <td>-0.008872</td>\n",
       "      <td>-0.000369</td>\n",
       "      <td>-0.003084</td>\n",
       "      <td>-0.000189</td>\n",
       "      <td>-0.001118</td>\n",
       "      <td>0.003366</td>\n",
       "      <td>1.000000</td>\n",
       "      <td>0.003907</td>\n",
       "      <td>-0.009002</td>\n",
       "      <td>-0.005906</td>\n",
       "      <td>-0.005093</td>\n",
       "      <td>0.892330</td>\n",
       "      <td>-0.002226</td>\n",
       "      <td>-0.001275</td>\n",
       "      <td>-0.000579</td>\n",
       "    </tr>\n",
       "    <tr>\n",
       "      <th>Income (USD/Month)</th>\n",
       "      <td>-0.000712</td>\n",
       "      <td>-0.008725</td>\n",
       "      <td>-0.000544</td>\n",
       "      <td>0.003228</td>\n",
       "      <td>-0.000633</td>\n",
       "      <td>-0.000866</td>\n",
       "      <td>-0.000991</td>\n",
       "      <td>0.003907</td>\n",
       "      <td>1.000000</td>\n",
       "      <td>0.011868</td>\n",
       "      <td>0.010464</td>\n",
       "      <td>0.006148</td>\n",
       "      <td>0.002708</td>\n",
       "      <td>0.000322</td>\n",
       "      <td>0.001860</td>\n",
       "      <td>-0.001617</td>\n",
       "    </tr>\n",
       "    <tr>\n",
       "      <th>Population</th>\n",
       "      <td>0.130920</td>\n",
       "      <td>0.000379</td>\n",
       "      <td>-0.002311</td>\n",
       "      <td>0.326589</td>\n",
       "      <td>0.015108</td>\n",
       "      <td>0.001544</td>\n",
       "      <td>0.043593</td>\n",
       "      <td>-0.009002</td>\n",
       "      <td>0.011868</td>\n",
       "      <td>1.000000</td>\n",
       "      <td>0.915490</td>\n",
       "      <td>0.544079</td>\n",
       "      <td>-0.002860</td>\n",
       "      <td>0.064571</td>\n",
       "      <td>0.000970</td>\n",
       "      <td>0.000003</td>\n",
       "    </tr>\n",
       "    <tr>\n",
       "      <th>Users</th>\n",
       "      <td>0.180476</td>\n",
       "      <td>-0.005128</td>\n",
       "      <td>-0.000428</td>\n",
       "      <td>0.281061</td>\n",
       "      <td>0.023628</td>\n",
       "      <td>0.001709</td>\n",
       "      <td>0.060886</td>\n",
       "      <td>-0.005906</td>\n",
       "      <td>0.010464</td>\n",
       "      <td>0.915490</td>\n",
       "      <td>1.000000</td>\n",
       "      <td>0.457758</td>\n",
       "      <td>-0.000408</td>\n",
       "      <td>0.036558</td>\n",
       "      <td>0.000514</td>\n",
       "      <td>-0.000771</td>\n",
       "    </tr>\n",
       "    <tr>\n",
       "      <th>Profit</th>\n",
       "      <td>0.258426</td>\n",
       "      <td>0.063052</td>\n",
       "      <td>0.462768</td>\n",
       "      <td>0.864154</td>\n",
       "      <td>0.486056</td>\n",
       "      <td>0.001273</td>\n",
       "      <td>0.021182</td>\n",
       "      <td>-0.005093</td>\n",
       "      <td>0.006148</td>\n",
       "      <td>0.544079</td>\n",
       "      <td>0.457758</td>\n",
       "      <td>1.000000</td>\n",
       "      <td>-0.002687</td>\n",
       "      <td>-0.096352</td>\n",
       "      <td>-0.008942</td>\n",
       "      <td>-0.060567</td>\n",
       "    </tr>\n",
       "    <tr>\n",
       "      <th>AgeCat</th>\n",
       "      <td>0.001299</td>\n",
       "      <td>-0.010180</td>\n",
       "      <td>-0.000130</td>\n",
       "      <td>-0.001446</td>\n",
       "      <td>0.000214</td>\n",
       "      <td>0.000595</td>\n",
       "      <td>-0.000659</td>\n",
       "      <td>0.892330</td>\n",
       "      <td>0.002708</td>\n",
       "      <td>-0.002860</td>\n",
       "      <td>-0.000408</td>\n",
       "      <td>-0.002687</td>\n",
       "      <td>1.000000</td>\n",
       "      <td>-0.000989</td>\n",
       "      <td>-0.001072</td>\n",
       "      <td>0.000013</td>\n",
       "    </tr>\n",
       "    <tr>\n",
       "      <th>months</th>\n",
       "      <td>-0.049657</td>\n",
       "      <td>-0.005623</td>\n",
       "      <td>-0.001903</td>\n",
       "      <td>-0.061116</td>\n",
       "      <td>-0.008370</td>\n",
       "      <td>-0.001862</td>\n",
       "      <td>-0.014972</td>\n",
       "      <td>-0.002226</td>\n",
       "      <td>0.000322</td>\n",
       "      <td>0.064571</td>\n",
       "      <td>0.036558</td>\n",
       "      <td>-0.096352</td>\n",
       "      <td>-0.000989</td>\n",
       "      <td>1.000000</td>\n",
       "      <td>0.041412</td>\n",
       "      <td>-0.030490</td>\n",
       "    </tr>\n",
       "    <tr>\n",
       "      <th>day</th>\n",
       "      <td>0.000302</td>\n",
       "      <td>0.001420</td>\n",
       "      <td>0.001652</td>\n",
       "      <td>-0.004021</td>\n",
       "      <td>0.002091</td>\n",
       "      <td>-0.000087</td>\n",
       "      <td>-0.000459</td>\n",
       "      <td>-0.001275</td>\n",
       "      <td>0.001860</td>\n",
       "      <td>0.000970</td>\n",
       "      <td>0.000514</td>\n",
       "      <td>-0.008942</td>\n",
       "      <td>-0.001072</td>\n",
       "      <td>0.041412</td>\n",
       "      <td>1.000000</td>\n",
       "      <td>-0.020995</td>\n",
       "    </tr>\n",
       "    <tr>\n",
       "      <th>year</th>\n",
       "      <td>-0.003287</td>\n",
       "      <td>-0.000830</td>\n",
       "      <td>-0.001072</td>\n",
       "      <td>-0.036409</td>\n",
       "      <td>-0.001773</td>\n",
       "      <td>-0.000870</td>\n",
       "      <td>-0.012758</td>\n",
       "      <td>-0.000579</td>\n",
       "      <td>-0.001617</td>\n",
       "      <td>0.000003</td>\n",
       "      <td>-0.000771</td>\n",
       "      <td>-0.060567</td>\n",
       "      <td>0.000013</td>\n",
       "      <td>-0.030490</td>\n",
       "      <td>-0.020995</td>\n",
       "      <td>1.000000</td>\n",
       "    </tr>\n",
       "  </tbody>\n",
       "</table>\n",
       "</div>"
      ],
      "text/plain": [
       "                     Company      City  KM Travelled  Price Charged  \\\n",
       "Company             1.000000  0.002109      0.000333       0.227986   \n",
       "City                0.002109  1.000000      0.000471       0.037286   \n",
       "KM Travelled        0.000333  0.000471      1.000000       0.835753   \n",
       "Price Charged       0.227986  0.037286      0.835753       1.000000   \n",
       "Cost of Trip        0.133713  0.000776      0.981848       0.859812   \n",
       "Payment_Mode       -0.001026 -0.000885     -0.000766       0.000226   \n",
       "Gender              0.017279 -0.011733     -0.001350       0.012661   \n",
       "Age                 0.000630 -0.008872     -0.000369      -0.003084   \n",
       "Income (USD/Month) -0.000712 -0.008725     -0.000544       0.003228   \n",
       "Population          0.130920  0.000379     -0.002311       0.326589   \n",
       "Users               0.180476 -0.005128     -0.000428       0.281061   \n",
       "Profit              0.258426  0.063052      0.462768       0.864154   \n",
       "AgeCat              0.001299 -0.010180     -0.000130      -0.001446   \n",
       "months             -0.049657 -0.005623     -0.001903      -0.061116   \n",
       "day                 0.000302  0.001420      0.001652      -0.004021   \n",
       "year               -0.003287 -0.000830     -0.001072      -0.036409   \n",
       "\n",
       "                    Cost of Trip  Payment_Mode    Gender       Age  \\\n",
       "Company                 0.133713     -0.001026  0.017279  0.000630   \n",
       "City                    0.000776     -0.000885 -0.011733 -0.008872   \n",
       "KM Travelled            0.981848     -0.000766 -0.001350 -0.000369   \n",
       "Price Charged           0.859812      0.000226  0.012661 -0.003084   \n",
       "Cost of Trip            1.000000     -0.000898  0.000495 -0.000189   \n",
       "Payment_Mode           -0.000898      1.000000 -0.000080 -0.001118   \n",
       "Gender                  0.000495     -0.000080  1.000000  0.003366   \n",
       "Age                    -0.000189     -0.001118  0.003366  1.000000   \n",
       "Income (USD/Month)     -0.000633     -0.000866 -0.000991  0.003907   \n",
       "Population              0.015108      0.001544  0.043593 -0.009002   \n",
       "Users                   0.023628      0.001709  0.060886 -0.005906   \n",
       "Profit                  0.486056      0.001273  0.021182 -0.005093   \n",
       "AgeCat                  0.000214      0.000595 -0.000659  0.892330   \n",
       "months                 -0.008370     -0.001862 -0.014972 -0.002226   \n",
       "day                     0.002091     -0.000087 -0.000459 -0.001275   \n",
       "year                   -0.001773     -0.000870 -0.012758 -0.000579   \n",
       "\n",
       "                    Income (USD/Month)  Population     Users    Profit  \\\n",
       "Company                      -0.000712    0.130920  0.180476  0.258426   \n",
       "City                         -0.008725    0.000379 -0.005128  0.063052   \n",
       "KM Travelled                 -0.000544   -0.002311 -0.000428  0.462768   \n",
       "Price Charged                 0.003228    0.326589  0.281061  0.864154   \n",
       "Cost of Trip                 -0.000633    0.015108  0.023628  0.486056   \n",
       "Payment_Mode                 -0.000866    0.001544  0.001709  0.001273   \n",
       "Gender                       -0.000991    0.043593  0.060886  0.021182   \n",
       "Age                           0.003907   -0.009002 -0.005906 -0.005093   \n",
       "Income (USD/Month)            1.000000    0.011868  0.010464  0.006148   \n",
       "Population                    0.011868    1.000000  0.915490  0.544079   \n",
       "Users                         0.010464    0.915490  1.000000  0.457758   \n",
       "Profit                        0.006148    0.544079  0.457758  1.000000   \n",
       "AgeCat                        0.002708   -0.002860 -0.000408 -0.002687   \n",
       "months                        0.000322    0.064571  0.036558 -0.096352   \n",
       "day                           0.001860    0.000970  0.000514 -0.008942   \n",
       "year                         -0.001617    0.000003 -0.000771 -0.060567   \n",
       "\n",
       "                      AgeCat    months       day      year  \n",
       "Company             0.001299 -0.049657  0.000302 -0.003287  \n",
       "City               -0.010180 -0.005623  0.001420 -0.000830  \n",
       "KM Travelled       -0.000130 -0.001903  0.001652 -0.001072  \n",
       "Price Charged      -0.001446 -0.061116 -0.004021 -0.036409  \n",
       "Cost of Trip        0.000214 -0.008370  0.002091 -0.001773  \n",
       "Payment_Mode        0.000595 -0.001862 -0.000087 -0.000870  \n",
       "Gender             -0.000659 -0.014972 -0.000459 -0.012758  \n",
       "Age                 0.892330 -0.002226 -0.001275 -0.000579  \n",
       "Income (USD/Month)  0.002708  0.000322  0.001860 -0.001617  \n",
       "Population         -0.002860  0.064571  0.000970  0.000003  \n",
       "Users              -0.000408  0.036558  0.000514 -0.000771  \n",
       "Profit             -0.002687 -0.096352 -0.008942 -0.060567  \n",
       "AgeCat              1.000000 -0.000989 -0.001072  0.000013  \n",
       "months             -0.000989  1.000000  0.041412 -0.030490  \n",
       "day                -0.001072  0.041412  1.000000 -0.020995  \n",
       "year                0.000013 -0.030490 -0.020995  1.000000  "
      ]
     },
     "execution_count": 75,
     "metadata": {},
     "output_type": "execute_result"
    }
   ],
   "source": [
    "def number_encode_features(df): \n",
    "    result = df.copy()     \n",
    "    encoders = {}     \n",
    "    for column in result.columns:         \n",
    "        if result.dtypes[column] == np.object:             \n",
    "            encoders[column] = preprocessing.LabelEncoder() \n",
    "            result[column] = encoders[column].fit_transform(result[column]\n",
    ") \n",
    "    return result, encoders  \n",
    "# Calculate the correlation and plot it \n",
    "encoded_data, _ = number_encode_features(df)\n",
    "encoded_data.drop(['Transaction ID','Customer ID'],axis=1).corr()"
   ]
  },
  {
   "cell_type": "code",
   "execution_count": 76,
   "metadata": {},
   "outputs": [],
   "source": [
    "df=df.drop(['Users','Age','Price Charged','Cost of Trip','months','day','year'],axis=1)"
   ]
  },
  {
   "cell_type": "code",
   "execution_count": 77,
   "metadata": {},
   "outputs": [
    {
     "data": {
      "text/html": [
       "<div>\n",
       "<style scoped>\n",
       "    .dataframe tbody tr th:only-of-type {\n",
       "        vertical-align: middle;\n",
       "    }\n",
       "\n",
       "    .dataframe tbody tr th {\n",
       "        vertical-align: top;\n",
       "    }\n",
       "\n",
       "    .dataframe thead th {\n",
       "        text-align: right;\n",
       "    }\n",
       "</style>\n",
       "<table border=\"1\" class=\"dataframe\">\n",
       "  <thead>\n",
       "    <tr style=\"text-align: right;\">\n",
       "      <th></th>\n",
       "      <th>Transaction ID</th>\n",
       "      <th>Date of Travel</th>\n",
       "      <th>Company</th>\n",
       "      <th>City</th>\n",
       "      <th>KM Travelled</th>\n",
       "      <th>Customer ID</th>\n",
       "      <th>Payment_Mode</th>\n",
       "      <th>Gender</th>\n",
       "      <th>Income (USD/Month)</th>\n",
       "      <th>Population</th>\n",
       "      <th>Profit</th>\n",
       "      <th>AgeCat</th>\n",
       "    </tr>\n",
       "  </thead>\n",
       "  <tbody>\n",
       "    <tr>\n",
       "      <th>0</th>\n",
       "      <td>10000011</td>\n",
       "      <td>2016-01-08</td>\n",
       "      <td>Pink Cab</td>\n",
       "      <td>ATLANTA GA</td>\n",
       "      <td>30.45</td>\n",
       "      <td>29290</td>\n",
       "      <td>Card</td>\n",
       "      <td>Male</td>\n",
       "      <td>10813</td>\n",
       "      <td>814885</td>\n",
       "      <td>57.3150</td>\n",
       "      <td>21-40</td>\n",
       "    </tr>\n",
       "    <tr>\n",
       "      <th>1</th>\n",
       "      <td>10351127</td>\n",
       "      <td>2018-07-21</td>\n",
       "      <td>Yellow Cab</td>\n",
       "      <td>ATLANTA GA</td>\n",
       "      <td>26.19</td>\n",
       "      <td>29290</td>\n",
       "      <td>Cash</td>\n",
       "      <td>Male</td>\n",
       "      <td>10813</td>\n",
       "      <td>814885</td>\n",
       "      <td>281.2772</td>\n",
       "      <td>21-40</td>\n",
       "    </tr>\n",
       "    <tr>\n",
       "      <th>2</th>\n",
       "      <td>10412921</td>\n",
       "      <td>2018-11-23</td>\n",
       "      <td>Yellow Cab</td>\n",
       "      <td>ATLANTA GA</td>\n",
       "      <td>42.55</td>\n",
       "      <td>29290</td>\n",
       "      <td>Card</td>\n",
       "      <td>Male</td>\n",
       "      <td>10813</td>\n",
       "      <td>814885</td>\n",
       "      <td>194.6480</td>\n",
       "      <td>21-40</td>\n",
       "    </tr>\n",
       "    <tr>\n",
       "      <th>3</th>\n",
       "      <td>10000012</td>\n",
       "      <td>2016-01-06</td>\n",
       "      <td>Pink Cab</td>\n",
       "      <td>ATLANTA GA</td>\n",
       "      <td>28.62</td>\n",
       "      <td>27703</td>\n",
       "      <td>Card</td>\n",
       "      <td>Male</td>\n",
       "      <td>9237</td>\n",
       "      <td>814885</td>\n",
       "      <td>23.6660</td>\n",
       "      <td>21-40</td>\n",
       "    </tr>\n",
       "    <tr>\n",
       "      <th>4</th>\n",
       "      <td>10320494</td>\n",
       "      <td>2018-04-21</td>\n",
       "      <td>Yellow Cab</td>\n",
       "      <td>ATLANTA GA</td>\n",
       "      <td>36.38</td>\n",
       "      <td>27703</td>\n",
       "      <td>Card</td>\n",
       "      <td>Male</td>\n",
       "      <td>9237</td>\n",
       "      <td>814885</td>\n",
       "      <td>253.9808</td>\n",
       "      <td>21-40</td>\n",
       "    </tr>\n",
       "  </tbody>\n",
       "</table>\n",
       "</div>"
      ],
      "text/plain": [
       "  Transaction ID Date of Travel     Company        City  KM Travelled  \\\n",
       "0       10000011     2016-01-08    Pink Cab  ATLANTA GA         30.45   \n",
       "1       10351127     2018-07-21  Yellow Cab  ATLANTA GA         26.19   \n",
       "2       10412921     2018-11-23  Yellow Cab  ATLANTA GA         42.55   \n",
       "3       10000012     2016-01-06    Pink Cab  ATLANTA GA         28.62   \n",
       "4       10320494     2018-04-21  Yellow Cab  ATLANTA GA         36.38   \n",
       "\n",
       "  Customer ID Payment_Mode Gender  Income (USD/Month)  Population    Profit  \\\n",
       "0       29290         Card   Male               10813      814885   57.3150   \n",
       "1       29290         Cash   Male               10813      814885  281.2772   \n",
       "2       29290         Card   Male               10813      814885  194.6480   \n",
       "3       27703         Card   Male                9237      814885   23.6660   \n",
       "4       27703         Card   Male                9237      814885  253.9808   \n",
       "\n",
       "  AgeCat  \n",
       "0  21-40  \n",
       "1  21-40  \n",
       "2  21-40  \n",
       "3  21-40  \n",
       "4  21-40  "
      ]
     },
     "execution_count": 77,
     "metadata": {},
     "output_type": "execute_result"
    }
   ],
   "source": [
    "df.head()"
   ]
  },
  {
   "cell_type": "code",
   "execution_count": 78,
   "metadata": {},
   "outputs": [],
   "source": [
    "df1 = df.groupby('Date of Travel')['Profit'].sum().reset_index()"
   ]
  },
  {
   "cell_type": "code",
   "execution_count": 79,
   "metadata": {},
   "outputs": [
    {
     "data": {
      "text/plain": [
       "DatetimeIndex(['2016-01-02', '2016-01-03', '2016-01-04', '2016-01-05',\n",
       "               '2016-01-06', '2016-01-07', '2016-01-08', '2016-01-09',\n",
       "               '2016-01-10', '2016-01-11',\n",
       "               ...\n",
       "               '2018-12-22', '2018-12-23', '2018-12-24', '2018-12-25',\n",
       "               '2018-12-26', '2018-12-27', '2018-12-28', '2018-12-29',\n",
       "               '2018-12-30', '2018-12-31'],\n",
       "              dtype='datetime64[ns]', name='Date of Travel', length=1095, freq=None)"
      ]
     },
     "execution_count": 79,
     "metadata": {},
     "output_type": "execute_result"
    }
   ],
   "source": [
    "df1 = df1.set_index('Date of Travel')\n",
    "df1.index"
   ]
  },
  {
   "cell_type": "code",
   "execution_count": 80,
   "metadata": {},
   "outputs": [],
   "source": [
    "y = df1['Profit'].resample('MS').mean()"
   ]
  },
  {
   "cell_type": "code",
   "execution_count": 81,
   "metadata": {},
   "outputs": [
    {
     "data": {
      "image/png": "[encoded data removed]",
      "text/plain": [
       "<Figure size 1080x432 with 1 Axes>"
      ]
     },
     "metadata": {
      "needs_background": "light"
     },
     "output_type": "display_data"
    }
   ],
   "source": [
    "y.plot(figsize=(15, 6))\n",
    "plt.show()"
   ]
  },
  {
   "cell_type": "code",
   "execution_count": 82,
   "metadata": {},
   "outputs": [],
   "source": [
    "import itertools"
   ]
  },
  {
   "cell_type": "code",
   "execution_count": 83,
   "metadata": {},
   "outputs": [
    {
     "name": "stdout",
     "output_type": "stream",
     "text": [
      "Examples of parameter combinations for Seasonal ARIMA...\n",
      "SARIMAX: (0, 0, 1) x (0, 0, 1, 12)\n",
      "SARIMAX: (0, 0, 1) x (0, 1, 0, 12)\n",
      "SARIMAX: (0, 1, 0) x (0, 1, 1, 12)\n",
      "SARIMAX: (0, 1, 0) x (1, 0, 0, 12)\n"
     ]
    }
   ],
   "source": [
    "p = d = q = range(0, 2)\n",
    "pdq = list(itertools.product(p, d, q))\n",
    "seasonal_pdq = [(x[0], x[1], x[2], 12) for x in list(itertools.product(p, d, q))]\n",
    "print('Examples of parameter combinations for Seasonal ARIMA...')\n",
    "print('SARIMAX: {} x {}'.format(pdq[1], seasonal_pdq[1]))\n",
    "print('SARIMAX: {} x {}'.format(pdq[1], seasonal_pdq[2]))\n",
    "print('SARIMAX: {} x {}'.format(pdq[2], seasonal_pdq[3]))\n",
    "print('SARIMAX: {} x {}'.format(pdq[2], seasonal_pdq[4]))"
   ]
  },
  {
   "cell_type": "code",
   "execution_count": 84,
   "metadata": {},
   "outputs": [],
   "source": [
    "for param in pdq:\n",
    "    for param_seasonal in seasonal_pdq:\n",
    "        try:\n",
    "            mod = sm.tsa.statespace.SARIMAX(y,\n",
    "                                            order=param,\n",
    "                                            seasonal_order=param_seasonal,\n",
    "                                            enforce_stationarity=False,\n",
    "                                            enforce_invertibility=False)\n",
    "            results = mod.fit()\n",
    "            print('ARIMA{}x{}12 - AIC:{}'.format(param, param_seasonal, results.aic))\n",
    "        except:\n",
    "            continue\n"
   ]
  },
  {
   "cell_type": "code",
   "execution_count": 85,
   "metadata": {},
   "outputs": [],
   "source": [
    "import statsmodels.api as sm"
   ]
  },
  {
   "cell_type": "code",
   "execution_count": 86,
   "metadata": {},
   "outputs": [
    {
     "name": "stdout",
     "output_type": "stream",
     "text": [
      "==============================================================================\n",
      "                 coef    std err          z      P>|z|      [0.025      0.975]\n",
      "------------------------------------------------------------------------------\n",
      "ar.L1         -0.6152      0.287     -2.143      0.032      -1.178      -0.053\n",
      "ma.L1          0.1492      0.239      0.625      0.532      -0.319       0.617\n",
      "ar.S.L12      -0.4955      0.144     -3.431      0.001      -0.779      -0.212\n",
      "sigma2      5.468e+06   2.82e-09   1.94e+15      0.000    5.47e+06    5.47e+06\n",
      "==============================================================================\n"
     ]
    }
   ],
   "source": [
    "mod = sm.tsa.statespace.SARIMAX(y,\n",
    "                                order=(1, 1, 1),\n",
    "                                seasonal_order=(1, 1, 0, 12),\n",
    "                                enforce_stationarity=False,\n",
    "                                enforce_invertibility=False)\n",
    "results = mod.fit()\n",
    "print(results.summary().tables[1])"
   ]
  },
  {
   "cell_type": "code",
   "execution_count": 87,
   "metadata": {},
   "outputs": [
    {
     "data": {
      "image/png": "[encoded data removed]",
      "text/plain": [
       "<Figure size 1008x504 with 1 Axes>"
      ]
     },
     "metadata": {
      "needs_background": "light"
     },
     "output_type": "display_data"
    }
   ],
   "source": [
    "pred = results.get_prediction(start=pd.to_datetime('2018-01-01'), dynamic=False)\n",
    "pred_ci = pred.conf_int()\n",
    "ax = y['2016':].plot(label='observed')\n",
    "pred.predicted_mean.plot(ax=ax, label='One-step ahead Forecast', alpha=.7, figsize=(14, 7))\n",
    "ax.fill_between(pred_ci.index,\n",
    "                pred_ci.iloc[:, 0],\n",
    "                pred_ci.iloc[:, 1], color='k', alpha=.2)\n",
    "ax.set_xlabel('Date')\n",
    "ax.set_ylabel('Profit')\n",
    "plt.legend()\n",
    "plt.show()"
   ]
  },
  {
   "cell_type": "code",
   "execution_count": 88,
   "metadata": {},
   "outputs": [
    {
     "name": "stdout",
     "output_type": "stream",
     "text": [
      "The Mean Squared Error of our forecasts is 124677124.01\n"
     ]
    }
   ],
   "source": [
    "y_forecasted = pred.predicted_mean\n",
    "y_truth = y['2018-01-01':]\n",
    "mse = ((y_forecasted - y_truth) ** 2).mean()\n",
    "print('The Mean Squared Error of our forecasts is {}'.format(round(mse, 2)))"
   ]
  },
  {
   "cell_type": "code",
   "execution_count": 89,
   "metadata": {},
   "outputs": [
    {
     "name": "stdout",
     "output_type": "stream",
     "text": [
      "The Root Mean Squared Error of our forecasts is 11165.89\n"
     ]
    }
   ],
   "source": [
    "print('The Root Mean Squared Error of our forecasts is {}'.format(round(np.sqrt(mse), 2)))"
   ]
  },
  {
   "cell_type": "code",
   "execution_count": 90,
   "metadata": {},
   "outputs": [
    {
     "data": {
      "image/png": "[encoded data removed]",
      "text/plain": [
       "<Figure size 1008x504 with 1 Axes>"
      ]
     },
     "metadata": {
      "needs_background": "light"
     },
     "output_type": "display_data"
    }
   ],
   "source": [
    "pred_uc = results.get_forecast(steps=24)\n",
    "pred_ci = pred_uc.conf_int()\n",
    "ax = y.plot(label='observed', figsize=(14, 7))\n",
    "pred_uc.predicted_mean.plot(ax=ax, label='Forecast')\n",
    "ax.fill_between(pred_ci.index,\n",
    "                pred_ci.iloc[:, 0],\n",
    "                pred_ci.iloc[:, 1], color='k', alpha=.25)\n",
    "ax.set_xlabel('Date')\n",
    "ax.set_ylabel('Profit')\n",
    "plt.legend()\n",
    "plt.show()"
   ]
  },
  {
   "cell_type": "markdown",
   "metadata": {},
   "source": [
    "# Hypothesis Testing:"
   ]
  },
  {
   "cell_type": "code",
   "execution_count": 91,
   "metadata": {},
   "outputs": [],
   "source": [
    "from scipy import stats"
   ]
  },
  {
   "cell_type": "markdown",
   "metadata": {},
   "source": [
    "<h1><center>Anova Test!</center></h1>"
   ]
  },
  {
   "cell_type": "code",
   "execution_count": 92,
   "metadata": {},
   "outputs": [
    {
     "data": {
      "text/plain": [
       "F_onewayResult(statistic=25719.023655653018, pvalue=0.0)"
      ]
     },
     "execution_count": 92,
     "metadata": {},
     "output_type": "execute_result"
    }
   ],
   "source": [
    "stats.f_oneway(df['Profit'][df['Company'] == 'Pink Cab'],\n",
    "               df['Profit'][df['Company'] == 'Yellow Cab'])"
   ]
  },
  {
   "cell_type": "code",
   "execution_count": null,
   "metadata": {},
   "outputs": [],
   "source": []
  }
 ],
 "metadata": {
  "kernelspec": {
   "display_name": "Python 3",
   "language": "python",
   "name": "python3"
  },
  "language_info": {
   "codemirror_mode": {
    "name": "ipython",
    "version": 3
   },
   "file_extension": ".py",
   "mimetype": "text/x-python",
   "name": "python",
   "nbconvert_exporter": "python",
   "pygments_lexer": "ipython3",
   "version": "3.7.6"
  }
 },
 "nbformat": 4,
 "nbformat_minor": 4
}
